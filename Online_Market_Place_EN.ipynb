{
 "cells": [
  {
   "cell_type": "markdown",
   "metadata": {
    "id": "H6cQIZr3ElW1"
   },
   "source": [
    "# Analysis of online store "
   ]
  },
  {
   "cell_type": "markdown",
   "metadata": {},
   "source": [
    "## Business objective and work plan "
   ]
  },
  {
   "cell_type": "markdown",
   "metadata": {},
   "source": [
    "**Objective:**\n",
    "The main objective of the project is to develop a solution that will personalize offers to loyal customers to increase their purchasing activity.\n",
    "\n",
    "**Criteria**:\n",
    "\n",
    "Target attribute - purchase activity. \n",
    "\n",
    "**Plan of Work**:\n",
    "1) Data Loading:\n",
    "- Import datasets for analysis.\n",
    "- Import libraries\n",
    "  \n",
    "2) Data preprocessing:\n",
    "- Performing data cleaning to handle omissions and remove duplicates.\n",
    "- Converting data types as needed.\n",
    "- Merging datasets\n",
    "\n",
    "3) Exploratory Data Analysis:\n",
    "- Correlation analysis\n",
    "\n",
    "4) Model building and selection of the best model\n",
    "5) Analyzing the importance of attributes\n",
    "6) Customer segmentation and development of recommendations\n",
    "7) Final conclusions\n",
    "\n",
    "\n",
    "**Datasets:**\n",
    "\n",
    "**market_file.csv**\n",
    "\n",
    "contains data on customer behavior on the website, customer communications and product behavior, and target attribute \n",
    "\n",
    "**market_money.csv**\n",
    "\n",
    "contains data about the revenue the store receives from the customer, i.e. how much the customer spent during the period of interaction with the site.\n",
    "\n",
    "**market_money.csv**\n",
    "\n",
    "contains data on the time (in minutes) that the customer spent on the site during the period.\n",
    "\n",
    "**market_money.csv** contains data on the average monthly profit of the customer for the last 3 months: what profit the store gets from sales to each customer.\n",
    "\n",
    "Translated with DeepL.com (free version)"
   ]
  },
  {
   "cell_type": "markdown",
   "metadata": {},
   "source": [
    "## Data Upload"
   ]
  },
  {
   "cell_type": "code",
   "execution_count": 222,
   "metadata": {},
   "outputs": [
    {
     "name": "stdout",
     "output_type": "stream",
     "text": [
      "Requirement already satisfied: shap in /opt/anaconda3/lib/python3.11/site-packages (0.46.0)\n",
      "Requirement already satisfied: numpy in /opt/anaconda3/lib/python3.11/site-packages (from shap) (1.26.4)\n",
      "Requirement already satisfied: scipy in /opt/anaconda3/lib/python3.11/site-packages (from shap) (1.11.4)\n",
      "Requirement already satisfied: scikit-learn in /opt/anaconda3/lib/python3.11/site-packages (from shap) (1.2.2)\n",
      "Requirement already satisfied: pandas in /opt/anaconda3/lib/python3.11/site-packages (from shap) (2.1.4)\n",
      "Requirement already satisfied: tqdm>=4.27.0 in /opt/anaconda3/lib/python3.11/site-packages (from shap) (4.65.0)\n",
      "Requirement already satisfied: packaging>20.9 in /opt/anaconda3/lib/python3.11/site-packages (from shap) (23.1)\n",
      "Requirement already satisfied: slicer==0.0.8 in /opt/anaconda3/lib/python3.11/site-packages (from shap) (0.0.8)\n",
      "Requirement already satisfied: numba in /opt/anaconda3/lib/python3.11/site-packages (from shap) (0.59.0)\n",
      "Requirement already satisfied: cloudpickle in /opt/anaconda3/lib/python3.11/site-packages (from shap) (2.2.1)\n",
      "Requirement already satisfied: llvmlite<0.43,>=0.42.0dev0 in /opt/anaconda3/lib/python3.11/site-packages (from numba->shap) (0.42.0)\n",
      "Requirement already satisfied: python-dateutil>=2.8.2 in /opt/anaconda3/lib/python3.11/site-packages (from pandas->shap) (2.8.2)\n",
      "Requirement already satisfied: pytz>=2020.1 in /opt/anaconda3/lib/python3.11/site-packages (from pandas->shap) (2023.3.post1)\n",
      "Requirement already satisfied: tzdata>=2022.1 in /opt/anaconda3/lib/python3.11/site-packages (from pandas->shap) (2023.3)\n",
      "Requirement already satisfied: joblib>=1.1.1 in /opt/anaconda3/lib/python3.11/site-packages (from scikit-learn->shap) (1.1.1)\n",
      "Requirement already satisfied: threadpoolctl>=2.0.0 in /opt/anaconda3/lib/python3.11/site-packages (from scikit-learn->shap) (2.2.0)\n",
      "Requirement already satisfied: six>=1.5 in /opt/anaconda3/lib/python3.11/site-packages (from python-dateutil>=2.8.2->pandas->shap) (1.16.0)\n"
     ]
    }
   ],
   "source": [
    "!pip install shap\n"
   ]
  },
  {
   "cell_type": "code",
   "execution_count": 223,
   "metadata": {},
   "outputs": [
    {
     "name": "stdout",
     "output_type": "stream",
     "text": [
      "Requirement already satisfied: ipywidgets in /opt/anaconda3/lib/python3.11/site-packages (8.1.3)\n",
      "Requirement already satisfied: comm>=0.1.3 in /opt/anaconda3/lib/python3.11/site-packages (from ipywidgets) (0.2.2)\n",
      "Requirement already satisfied: ipython>=6.1.0 in /opt/anaconda3/lib/python3.11/site-packages (from ipywidgets) (8.20.0)\n",
      "Requirement already satisfied: traitlets>=4.3.1 in /opt/anaconda3/lib/python3.11/site-packages (from ipywidgets) (5.7.1)\n",
      "Requirement already satisfied: widgetsnbextension~=4.0.11 in /opt/anaconda3/lib/python3.11/site-packages (from ipywidgets) (4.0.11)\n",
      "Requirement already satisfied: jupyterlab-widgets~=3.0.11 in /opt/anaconda3/lib/python3.11/site-packages (from ipywidgets) (3.0.11)\n",
      "Requirement already satisfied: decorator in /opt/anaconda3/lib/python3.11/site-packages (from ipython>=6.1.0->ipywidgets) (5.1.1)\n",
      "Requirement already satisfied: jedi>=0.16 in /opt/anaconda3/lib/python3.11/site-packages (from ipython>=6.1.0->ipywidgets) (0.18.1)\n",
      "Requirement already satisfied: matplotlib-inline in /opt/anaconda3/lib/python3.11/site-packages (from ipython>=6.1.0->ipywidgets) (0.1.6)\n",
      "Requirement already satisfied: prompt-toolkit<3.1.0,>=3.0.41 in /opt/anaconda3/lib/python3.11/site-packages (from ipython>=6.1.0->ipywidgets) (3.0.43)\n",
      "Requirement already satisfied: pygments>=2.4.0 in /opt/anaconda3/lib/python3.11/site-packages (from ipython>=6.1.0->ipywidgets) (2.15.1)\n",
      "Requirement already satisfied: stack-data in /opt/anaconda3/lib/python3.11/site-packages (from ipython>=6.1.0->ipywidgets) (0.2.0)\n",
      "Requirement already satisfied: pexpect>4.3 in /opt/anaconda3/lib/python3.11/site-packages (from ipython>=6.1.0->ipywidgets) (4.8.0)\n",
      "Requirement already satisfied: parso<0.9.0,>=0.8.0 in /opt/anaconda3/lib/python3.11/site-packages (from jedi>=0.16->ipython>=6.1.0->ipywidgets) (0.8.3)\n",
      "Requirement already satisfied: ptyprocess>=0.5 in /opt/anaconda3/lib/python3.11/site-packages (from pexpect>4.3->ipython>=6.1.0->ipywidgets) (0.7.0)\n",
      "Requirement already satisfied: wcwidth in /opt/anaconda3/lib/python3.11/site-packages (from prompt-toolkit<3.1.0,>=3.0.41->ipython>=6.1.0->ipywidgets) (0.2.5)\n",
      "Requirement already satisfied: executing in /opt/anaconda3/lib/python3.11/site-packages (from stack-data->ipython>=6.1.0->ipywidgets) (0.8.3)\n",
      "Requirement already satisfied: asttokens in /opt/anaconda3/lib/python3.11/site-packages (from stack-data->ipython>=6.1.0->ipywidgets) (2.0.5)\n",
      "Requirement already satisfied: pure-eval in /opt/anaconda3/lib/python3.11/site-packages (from stack-data->ipython>=6.1.0->ipywidgets) (0.2.2)\n",
      "Requirement already satisfied: six in /opt/anaconda3/lib/python3.11/site-packages (from asttokens->stack-data->ipython>=6.1.0->ipywidgets) (1.16.0)\n",
      "Note: you may need to restart the kernel to use updated packages.\n"
     ]
    }
   ],
   "source": [
    "pip install --upgrade ipywidgets"
   ]
  },
  {
   "cell_type": "code",
   "execution_count": 224,
   "metadata": {},
   "outputs": [
    {
     "name": "stdout",
     "output_type": "stream",
     "text": [
      "Collecting numpy==1.23\n",
      "  Using cached numpy-1.23.0.tar.gz (10.7 MB)\n",
      "  Installing build dependencies ... \u001b[?25ldone\n",
      "\u001b[?25h  Getting requirements to build wheel ... \u001b[?25ldone\n",
      "\u001b[?25h  Preparing metadata (pyproject.toml) ... \u001b[?25ldone\n",
      "\u001b[?25hBuilding wheels for collected packages: numpy\n",
      "  Building wheel for numpy (pyproject.toml) ... \u001b[?25ldone\n",
      "\u001b[?25h  Created wheel for numpy: filename=numpy-1.23.0-cp311-cp311-macosx_14_0_x86_64.whl size=5714429 sha256=067811668713bede51883349f56e14ac8b84ad58fa5d1f650e00ab0967c13b3e\n",
      "  Stored in directory: /Users/D063858/Library/Caches/pip/wheels/6d/36/1a/3ec6b85008bea3151efb003f5d41baa7bf4966cb43c1c2470b\n",
      "Successfully built numpy\n",
      "Installing collected packages: numpy\n",
      "  Attempting uninstall: numpy\n",
      "    Found existing installation: numpy 1.26.4\n",
      "    Uninstalling numpy-1.26.4:\n",
      "      Successfully uninstalled numpy-1.26.4\n",
      "\u001b[31mERROR: pip's dependency resolver does not currently take into account all the packages that are installed. This behaviour is the source of the following dependency conflicts.\n",
      "gensim 4.3.0 requires FuzzyTM>=0.4.0, which is not installed.\n",
      "pandas 2.1.4 requires numpy<2,>=1.23.2; python_version == \"3.11\", but you have numpy 1.23.0 which is incompatible.\u001b[0m\u001b[31m\n",
      "\u001b[0mSuccessfully installed numpy-1.23.0\n"
     ]
    }
   ],
   "source": [
    "!pip install numpy==1.23"
   ]
  },
  {
   "cell_type": "code",
   "execution_count": 225,
   "metadata": {},
   "outputs": [
    {
     "name": "stdout",
     "output_type": "stream",
     "text": [
      "Requirement already satisfied: phik in /opt/anaconda3/lib/python3.11/site-packages (0.12.4)\n",
      "Requirement already satisfied: numpy>=1.18.0 in /opt/anaconda3/lib/python3.11/site-packages (from phik) (1.23.0)\n",
      "Requirement already satisfied: scipy>=1.5.2 in /opt/anaconda3/lib/python3.11/site-packages (from phik) (1.11.4)\n",
      "Requirement already satisfied: pandas>=0.25.1 in /opt/anaconda3/lib/python3.11/site-packages (from phik) (2.1.4)\n",
      "Requirement already satisfied: matplotlib>=2.2.3 in /opt/anaconda3/lib/python3.11/site-packages (from phik) (3.8.0)\n",
      "Requirement already satisfied: joblib>=0.14.1 in /opt/anaconda3/lib/python3.11/site-packages (from phik) (1.1.1)\n",
      "Requirement already satisfied: contourpy>=1.0.1 in /opt/anaconda3/lib/python3.11/site-packages (from matplotlib>=2.2.3->phik) (1.2.0)\n",
      "Requirement already satisfied: cycler>=0.10 in /opt/anaconda3/lib/python3.11/site-packages (from matplotlib>=2.2.3->phik) (0.11.0)\n",
      "Requirement already satisfied: fonttools>=4.22.0 in /opt/anaconda3/lib/python3.11/site-packages (from matplotlib>=2.2.3->phik) (4.25.0)\n",
      "Requirement already satisfied: kiwisolver>=1.0.1 in /opt/anaconda3/lib/python3.11/site-packages (from matplotlib>=2.2.3->phik) (1.4.4)\n",
      "Requirement already satisfied: packaging>=20.0 in /opt/anaconda3/lib/python3.11/site-packages (from matplotlib>=2.2.3->phik) (23.1)\n",
      "Requirement already satisfied: pillow>=6.2.0 in /opt/anaconda3/lib/python3.11/site-packages (from matplotlib>=2.2.3->phik) (10.2.0)\n",
      "Requirement already satisfied: pyparsing>=2.3.1 in /opt/anaconda3/lib/python3.11/site-packages (from matplotlib>=2.2.3->phik) (3.0.9)\n",
      "Requirement already satisfied: python-dateutil>=2.7 in /opt/anaconda3/lib/python3.11/site-packages (from matplotlib>=2.2.3->phik) (2.8.2)\n",
      "Collecting numpy>=1.18.0 (from phik)\n",
      "  Using cached numpy-1.26.4-cp311-cp311-macosx_10_9_x86_64.whl.metadata (61 kB)\n",
      "Requirement already satisfied: pytz>=2020.1 in /opt/anaconda3/lib/python3.11/site-packages (from pandas>=0.25.1->phik) (2023.3.post1)\n",
      "Requirement already satisfied: tzdata>=2022.1 in /opt/anaconda3/lib/python3.11/site-packages (from pandas>=0.25.1->phik) (2023.3)\n",
      "Requirement already satisfied: six>=1.5 in /opt/anaconda3/lib/python3.11/site-packages (from python-dateutil>=2.7->matplotlib>=2.2.3->phik) (1.16.0)\n",
      "Using cached numpy-1.26.4-cp311-cp311-macosx_10_9_x86_64.whl (20.6 MB)\n",
      "Installing collected packages: numpy\n",
      "  Attempting uninstall: numpy\n",
      "    Found existing installation: numpy 1.23.0\n",
      "    Uninstalling numpy-1.23.0:\n",
      "      Successfully uninstalled numpy-1.23.0\n",
      "\u001b[31mERROR: pip's dependency resolver does not currently take into account all the packages that are installed. This behaviour is the source of the following dependency conflicts.\n",
      "gensim 4.3.0 requires FuzzyTM>=0.4.0, which is not installed.\u001b[0m\u001b[31m\n",
      "\u001b[0mSuccessfully installed numpy-1.26.4\n"
     ]
    }
   ],
   "source": [
    "!pip install phik"
   ]
  },
  {
   "cell_type": "code",
   "execution_count": 226,
   "metadata": {},
   "outputs": [],
   "source": [
    "# import libraries \n",
    "import pandas as pd\n",
    "import matplotlib.pyplot as plt\n",
    "import seaborn as sns\n",
    "import numpy as np\n",
    "import os\n",
    "import phik\n",
    "\n",
    "from sklearn.pipeline import Pipeline\n",
    "\n",
    "\n",
    "import statsmodels.api as sm\n",
    "from sklearn.model_selection import train_test_split, cross_val_score\n",
    "\n",
    "from sklearn.preprocessing import (OneHotEncoder,  \n",
    "                                    OrdinalEncoder,\n",
    "                                   StandardScaler,\n",
    "                                   MinMaxScaler, \n",
    "                                    LabelEncoder,\n",
    "                                    PolynomialFeatures\n",
    "                                    )\n",
    "\n",
    "from sklearn.model_selection import GridSearchCV\n",
    "\n",
    "from sklearn.dummy import DummyClassifier\n",
    "\n",
    "from sklearn.compose import ColumnTransformer\n",
    "\n",
    "from sklearn.impute import SimpleImputer\n",
    "\n",
    "from sklearn.linear_model import LogisticRegression\n",
    "from sklearn.neighbors import KNeighborsClassifier\n",
    "from sklearn.tree import DecisionTreeClassifier\n",
    "from sklearn.svm import SVC\n",
    "\n",
    "from statsmodels.stats.outliers_influence import variance_inflation_factor\n",
    "\n",
    "from sklearn.metrics import (\n",
    "                mean_squared_error,\n",
    "                mean_absolute_error,\n",
    "                r2_score,\n",
    "                accuracy_score, \n",
    "                confusion_matrix,\n",
    "                 recall_score,\n",
    "                precision_score,\n",
    "                 roc_auc_score\n",
    "             ) \n",
    "from sklearn.model_selection import RandomizedSearchCV\n",
    "\n",
    "import shap"
   ]
  },
  {
   "cell_type": "code",
   "execution_count": 227,
   "metadata": {},
   "outputs": [],
   "source": [
    "#upload datasets\n",
    "pth1_market_file = 'market_file.csv'\n",
    "pth2_market_file = '/datasets/market_file.csv'\n",
    "\n",
    "pth1_market_money = 'market_money.csv'\n",
    "pth2_market_money = '/datasets/market_money.csv'\n",
    "\n",
    "pth1_market_time = 'market_time.csv'\n",
    "pth2_market_time = '/datasets/market_time.csv'\n",
    "\n",
    "pth1_money = 'money.csv'\n",
    "pth2_money = '/datasets/money.csv'\n",
    "\n",
    "# reading files \n",
    "if os.path.exists(pth1_market_file):\n",
    "    df_market_file = pd.read_csv(pth1_market_file)\n",
    "elif os.path.exists(pth2_market_file):\n",
    "    df_market_file = pd.read_csv(pth2_market_file)\n",
    "else:\n",
    "    print('Something is wrong with market_file.csv')\n",
    "\n",
    "if os.path.exists(pth1_market_money):\n",
    "    df_market_money = pd.read_csv(pth1_market_money)\n",
    "elif os.path.exists(pth2_market_money):\n",
    "    df_market_money = pd.read_csv(pth2_market_money)\n",
    "else:\n",
    "    print('Something is wrong with market_money.csv')\n",
    "\n",
    "if os.path.exists(pth1_market_time):\n",
    "    df_market_time = pd.read_csv(pth1_market_time)\n",
    "elif os.path.exists(pth2_market_time):\n",
    "    df_market_time = pd.read_csv(pth2_market_time)\n",
    "else:\n",
    "    print('Something is wrong with market_time.csv')\n",
    "\n",
    "if os.path.exists(pth1_money):\n",
    "    df_money = pd.read_csv(pth1_money, sep=';', decimal=',')\n",
    "elif os.path.exists(pth2_money):\n",
    "    df_money = pd.read_csv(pth2_money, sep=';', decimal=',')\n",
    "else:\n",
    "    print('Something is wrong with money.csv')"
   ]
  },
  {
   "cell_type": "code",
   "execution_count": 228,
   "metadata": {},
   "outputs": [
    {
     "data": {
      "text/html": [
       "<div>\n",
       "<style scoped>\n",
       "    .dataframe tbody tr th:only-of-type {\n",
       "        vertical-align: middle;\n",
       "    }\n",
       "\n",
       "    .dataframe tbody tr th {\n",
       "        vertical-align: top;\n",
       "    }\n",
       "\n",
       "    .dataframe thead th {\n",
       "        text-align: right;\n",
       "    }\n",
       "</style>\n",
       "<table border=\"1\" class=\"dataframe\">\n",
       "  <thead>\n",
       "    <tr style=\"text-align: right;\">\n",
       "      <th></th>\n",
       "      <th>id</th>\n",
       "      <th>Покупательская активность</th>\n",
       "      <th>Тип сервиса</th>\n",
       "      <th>Разрешить сообщать</th>\n",
       "      <th>Маркет_актив_6_мес</th>\n",
       "      <th>Маркет_актив_тек_мес</th>\n",
       "      <th>Длительность</th>\n",
       "      <th>Акционные_покупки</th>\n",
       "      <th>Популярная_категория</th>\n",
       "      <th>Средний_просмотр_категорий_за_визит</th>\n",
       "      <th>Неоплаченные_продукты_штук_квартал</th>\n",
       "      <th>Ошибка_сервиса</th>\n",
       "      <th>Страниц_за_визит</th>\n",
       "    </tr>\n",
       "  </thead>\n",
       "  <tbody>\n",
       "    <tr>\n",
       "      <th>0</th>\n",
       "      <td>215348</td>\n",
       "      <td>Снизилась</td>\n",
       "      <td>премиум</td>\n",
       "      <td>да</td>\n",
       "      <td>3.4</td>\n",
       "      <td>5</td>\n",
       "      <td>121</td>\n",
       "      <td>0.00</td>\n",
       "      <td>Товары для детей</td>\n",
       "      <td>6</td>\n",
       "      <td>2</td>\n",
       "      <td>1</td>\n",
       "      <td>5</td>\n",
       "    </tr>\n",
       "    <tr>\n",
       "      <th>1</th>\n",
       "      <td>215349</td>\n",
       "      <td>Снизилась</td>\n",
       "      <td>премиум</td>\n",
       "      <td>да</td>\n",
       "      <td>4.4</td>\n",
       "      <td>4</td>\n",
       "      <td>819</td>\n",
       "      <td>0.75</td>\n",
       "      <td>Товары для детей</td>\n",
       "      <td>4</td>\n",
       "      <td>4</td>\n",
       "      <td>2</td>\n",
       "      <td>5</td>\n",
       "    </tr>\n",
       "    <tr>\n",
       "      <th>2</th>\n",
       "      <td>215350</td>\n",
       "      <td>Снизилась</td>\n",
       "      <td>стандартт</td>\n",
       "      <td>нет</td>\n",
       "      <td>4.9</td>\n",
       "      <td>3</td>\n",
       "      <td>539</td>\n",
       "      <td>0.14</td>\n",
       "      <td>Домашний текстиль</td>\n",
       "      <td>5</td>\n",
       "      <td>2</td>\n",
       "      <td>1</td>\n",
       "      <td>5</td>\n",
       "    </tr>\n",
       "  </tbody>\n",
       "</table>\n",
       "</div>"
      ],
      "text/plain": [
       "       id Покупательская активность Тип сервиса Разрешить сообщать  \\\n",
       "0  215348                 Снизилась     премиум                 да   \n",
       "1  215349                 Снизилась     премиум                 да   \n",
       "2  215350                 Снизилась   стандартт                нет   \n",
       "\n",
       "   Маркет_актив_6_мес  Маркет_актив_тек_мес  Длительность  Акционные_покупки  \\\n",
       "0                 3.4                     5           121               0.00   \n",
       "1                 4.4                     4           819               0.75   \n",
       "2                 4.9                     3           539               0.14   \n",
       "\n",
       "  Популярная_категория  Средний_просмотр_категорий_за_визит  \\\n",
       "0     Товары для детей                                    6   \n",
       "1     Товары для детей                                    4   \n",
       "2    Домашний текстиль                                    5   \n",
       "\n",
       "   Неоплаченные_продукты_штук_квартал  Ошибка_сервиса  Страниц_за_визит  \n",
       "0                                   2               1                 5  \n",
       "1                                   4               2                 5  \n",
       "2                                   2               1                 5  "
      ]
     },
     "execution_count": 228,
     "metadata": {},
     "output_type": "execute_result"
    }
   ],
   "source": [
    "df_market_file.head(3)"
   ]
  },
  {
   "cell_type": "markdown",
   "metadata": {},
   "source": [
    "Format to lower case and rename the columns"
   ]
  },
  {
   "cell_type": "code",
   "execution_count": 230,
   "metadata": {},
   "outputs": [],
   "source": [
    "df_market_file.columns = df_market_file.columns.str.lower()"
   ]
  },
  {
   "cell_type": "code",
   "execution_count": 231,
   "metadata": {},
   "outputs": [
    {
     "data": {
      "text/html": [
       "<div>\n",
       "<style scoped>\n",
       "    .dataframe tbody tr th:only-of-type {\n",
       "        vertical-align: middle;\n",
       "    }\n",
       "\n",
       "    .dataframe tbody tr th {\n",
       "        vertical-align: top;\n",
       "    }\n",
       "\n",
       "    .dataframe thead th {\n",
       "        text-align: right;\n",
       "    }\n",
       "</style>\n",
       "<table border=\"1\" class=\"dataframe\">\n",
       "  <thead>\n",
       "    <tr style=\"text-align: right;\">\n",
       "      <th></th>\n",
       "      <th>id</th>\n",
       "      <th>покупательская_активность</th>\n",
       "      <th>тип_сервиса</th>\n",
       "      <th>разрешить_сообщать</th>\n",
       "      <th>маркет_актив_6_мес</th>\n",
       "      <th>маркет_актив_тек_мес</th>\n",
       "      <th>длительность</th>\n",
       "      <th>акционные_покупки</th>\n",
       "      <th>популярная_категория</th>\n",
       "      <th>средний_просмотр_категорий_за_визит</th>\n",
       "      <th>неоплаченные_продукты_штук_квартал</th>\n",
       "      <th>ошибка_сервиса</th>\n",
       "      <th>страниц_за_визит</th>\n",
       "    </tr>\n",
       "  </thead>\n",
       "  <tbody>\n",
       "    <tr>\n",
       "      <th>0</th>\n",
       "      <td>215348</td>\n",
       "      <td>Снизилась</td>\n",
       "      <td>премиум</td>\n",
       "      <td>да</td>\n",
       "      <td>3.4</td>\n",
       "      <td>5</td>\n",
       "      <td>121</td>\n",
       "      <td>0.00</td>\n",
       "      <td>Товары для детей</td>\n",
       "      <td>6</td>\n",
       "      <td>2</td>\n",
       "      <td>1</td>\n",
       "      <td>5</td>\n",
       "    </tr>\n",
       "    <tr>\n",
       "      <th>1</th>\n",
       "      <td>215349</td>\n",
       "      <td>Снизилась</td>\n",
       "      <td>премиум</td>\n",
       "      <td>да</td>\n",
       "      <td>4.4</td>\n",
       "      <td>4</td>\n",
       "      <td>819</td>\n",
       "      <td>0.75</td>\n",
       "      <td>Товары для детей</td>\n",
       "      <td>4</td>\n",
       "      <td>4</td>\n",
       "      <td>2</td>\n",
       "      <td>5</td>\n",
       "    </tr>\n",
       "    <tr>\n",
       "      <th>2</th>\n",
       "      <td>215350</td>\n",
       "      <td>Снизилась</td>\n",
       "      <td>стандартт</td>\n",
       "      <td>нет</td>\n",
       "      <td>4.9</td>\n",
       "      <td>3</td>\n",
       "      <td>539</td>\n",
       "      <td>0.14</td>\n",
       "      <td>Домашний текстиль</td>\n",
       "      <td>5</td>\n",
       "      <td>2</td>\n",
       "      <td>1</td>\n",
       "      <td>5</td>\n",
       "    </tr>\n",
       "  </tbody>\n",
       "</table>\n",
       "</div>"
      ],
      "text/plain": [
       "       id покупательская_активность тип_сервиса разрешить_сообщать  \\\n",
       "0  215348                 Снизилась     премиум                 да   \n",
       "1  215349                 Снизилась     премиум                 да   \n",
       "2  215350                 Снизилась   стандартт                нет   \n",
       "\n",
       "   маркет_актив_6_мес  маркет_актив_тек_мес  длительность  акционные_покупки  \\\n",
       "0                 3.4                     5           121               0.00   \n",
       "1                 4.4                     4           819               0.75   \n",
       "2                 4.9                     3           539               0.14   \n",
       "\n",
       "  популярная_категория  средний_просмотр_категорий_за_визит  \\\n",
       "0     Товары для детей                                    6   \n",
       "1     Товары для детей                                    4   \n",
       "2    Домашний текстиль                                    5   \n",
       "\n",
       "   неоплаченные_продукты_штук_квартал  ошибка_сервиса  страниц_за_визит  \n",
       "0                                   2               1                 5  \n",
       "1                                   4               2                 5  \n",
       "2                                   2               1                 5  "
      ]
     },
     "execution_count": 231,
     "metadata": {},
     "output_type": "execute_result"
    }
   ],
   "source": [
    "df_market_file = df_market_file.rename(columns=\n",
    "                                     {'покупательская активность': 'покупательская_активность',\n",
    "                                      'тип сервиса': 'тип_сервиса',\n",
    "                                      'разрешить сообщать': 'разрешить_сообщать', \n",
    "                                      }) \n",
    "df_market_file.head(3)"
   ]
  },
  {
   "cell_type": "code",
   "execution_count": 233,
   "metadata": {},
   "outputs": [
    {
     "data": {
      "text/html": [
       "<div>\n",
       "<style scoped>\n",
       "    .dataframe tbody tr th:only-of-type {\n",
       "        vertical-align: middle;\n",
       "    }\n",
       "\n",
       "    .dataframe tbody tr th {\n",
       "        vertical-align: top;\n",
       "    }\n",
       "\n",
       "    .dataframe thead th {\n",
       "        text-align: right;\n",
       "    }\n",
       "</style>\n",
       "<table border=\"1\" class=\"dataframe\">\n",
       "  <thead>\n",
       "    <tr style=\"text-align: right;\">\n",
       "      <th></th>\n",
       "      <th>id</th>\n",
       "      <th>Период</th>\n",
       "      <th>Выручка</th>\n",
       "    </tr>\n",
       "  </thead>\n",
       "  <tbody>\n",
       "    <tr>\n",
       "      <th>0</th>\n",
       "      <td>215348</td>\n",
       "      <td>препредыдущий_месяц</td>\n",
       "      <td>0.0</td>\n",
       "    </tr>\n",
       "    <tr>\n",
       "      <th>1</th>\n",
       "      <td>215348</td>\n",
       "      <td>текущий_месяц</td>\n",
       "      <td>3293.1</td>\n",
       "    </tr>\n",
       "    <tr>\n",
       "      <th>2</th>\n",
       "      <td>215348</td>\n",
       "      <td>предыдущий_месяц</td>\n",
       "      <td>0.0</td>\n",
       "    </tr>\n",
       "  </tbody>\n",
       "</table>\n",
       "</div>"
      ],
      "text/plain": [
       "       id               Период  Выручка\n",
       "0  215348  препредыдущий_месяц      0.0\n",
       "1  215348        текущий_месяц   3293.1\n",
       "2  215348     предыдущий_месяц      0.0"
      ]
     },
     "execution_count": 233,
     "metadata": {},
     "output_type": "execute_result"
    }
   ],
   "source": [
    "df_market_money.head(3)"
   ]
  },
  {
   "cell_type": "code",
   "execution_count": 234,
   "metadata": {},
   "outputs": [
    {
     "data": {
      "text/html": [
       "<div>\n",
       "<style scoped>\n",
       "    .dataframe tbody tr th:only-of-type {\n",
       "        vertical-align: middle;\n",
       "    }\n",
       "\n",
       "    .dataframe tbody tr th {\n",
       "        vertical-align: top;\n",
       "    }\n",
       "\n",
       "    .dataframe thead th {\n",
       "        text-align: right;\n",
       "    }\n",
       "</style>\n",
       "<table border=\"1\" class=\"dataframe\">\n",
       "  <thead>\n",
       "    <tr style=\"text-align: right;\">\n",
       "      <th></th>\n",
       "      <th>id</th>\n",
       "      <th>период</th>\n",
       "      <th>выручка</th>\n",
       "    </tr>\n",
       "  </thead>\n",
       "  <tbody>\n",
       "    <tr>\n",
       "      <th>0</th>\n",
       "      <td>215348</td>\n",
       "      <td>препредыдущий_месяц</td>\n",
       "      <td>0.0</td>\n",
       "    </tr>\n",
       "    <tr>\n",
       "      <th>1</th>\n",
       "      <td>215348</td>\n",
       "      <td>текущий_месяц</td>\n",
       "      <td>3293.1</td>\n",
       "    </tr>\n",
       "    <tr>\n",
       "      <th>2</th>\n",
       "      <td>215348</td>\n",
       "      <td>предыдущий_месяц</td>\n",
       "      <td>0.0</td>\n",
       "    </tr>\n",
       "  </tbody>\n",
       "</table>\n",
       "</div>"
      ],
      "text/plain": [
       "       id               период  выручка\n",
       "0  215348  препредыдущий_месяц      0.0\n",
       "1  215348        текущий_месяц   3293.1\n",
       "2  215348     предыдущий_месяц      0.0"
      ]
     },
     "execution_count": 234,
     "metadata": {},
     "output_type": "execute_result"
    }
   ],
   "source": [
    "df_market_money.columns = df_market_money.columns.str.lower()\n",
    "df_market_money.head(3)"
   ]
  },
  {
   "cell_type": "code",
   "execution_count": 235,
   "metadata": {},
   "outputs": [
    {
     "data": {
      "text/html": [
       "<div>\n",
       "<style scoped>\n",
       "    .dataframe tbody tr th:only-of-type {\n",
       "        vertical-align: middle;\n",
       "    }\n",
       "\n",
       "    .dataframe tbody tr th {\n",
       "        vertical-align: top;\n",
       "    }\n",
       "\n",
       "    .dataframe thead th {\n",
       "        text-align: right;\n",
       "    }\n",
       "</style>\n",
       "<table border=\"1\" class=\"dataframe\">\n",
       "  <thead>\n",
       "    <tr style=\"text-align: right;\">\n",
       "      <th></th>\n",
       "      <th>id</th>\n",
       "      <th>Период</th>\n",
       "      <th>минут</th>\n",
       "    </tr>\n",
       "  </thead>\n",
       "  <tbody>\n",
       "    <tr>\n",
       "      <th>0</th>\n",
       "      <td>215348</td>\n",
       "      <td>текущий_месяц</td>\n",
       "      <td>14</td>\n",
       "    </tr>\n",
       "    <tr>\n",
       "      <th>1</th>\n",
       "      <td>215348</td>\n",
       "      <td>предыдцщий_месяц</td>\n",
       "      <td>13</td>\n",
       "    </tr>\n",
       "    <tr>\n",
       "      <th>2</th>\n",
       "      <td>215349</td>\n",
       "      <td>текущий_месяц</td>\n",
       "      <td>10</td>\n",
       "    </tr>\n",
       "  </tbody>\n",
       "</table>\n",
       "</div>"
      ],
      "text/plain": [
       "       id            Период  минут\n",
       "0  215348     текущий_месяц     14\n",
       "1  215348  предыдцщий_месяц     13\n",
       "2  215349     текущий_месяц     10"
      ]
     },
     "execution_count": 235,
     "metadata": {},
     "output_type": "execute_result"
    }
   ],
   "source": [
    "df_market_time.head(3)"
   ]
  },
  {
   "cell_type": "code",
   "execution_count": 236,
   "metadata": {},
   "outputs": [
    {
     "data": {
      "text/html": [
       "<div>\n",
       "<style scoped>\n",
       "    .dataframe tbody tr th:only-of-type {\n",
       "        vertical-align: middle;\n",
       "    }\n",
       "\n",
       "    .dataframe tbody tr th {\n",
       "        vertical-align: top;\n",
       "    }\n",
       "\n",
       "    .dataframe thead th {\n",
       "        text-align: right;\n",
       "    }\n",
       "</style>\n",
       "<table border=\"1\" class=\"dataframe\">\n",
       "  <thead>\n",
       "    <tr style=\"text-align: right;\">\n",
       "      <th></th>\n",
       "      <th>id</th>\n",
       "      <th>период</th>\n",
       "      <th>минут</th>\n",
       "    </tr>\n",
       "  </thead>\n",
       "  <tbody>\n",
       "    <tr>\n",
       "      <th>0</th>\n",
       "      <td>215348</td>\n",
       "      <td>текущий_месяц</td>\n",
       "      <td>14</td>\n",
       "    </tr>\n",
       "    <tr>\n",
       "      <th>1</th>\n",
       "      <td>215348</td>\n",
       "      <td>предыдцщий_месяц</td>\n",
       "      <td>13</td>\n",
       "    </tr>\n",
       "    <tr>\n",
       "      <th>2</th>\n",
       "      <td>215349</td>\n",
       "      <td>текущий_месяц</td>\n",
       "      <td>10</td>\n",
       "    </tr>\n",
       "  </tbody>\n",
       "</table>\n",
       "</div>"
      ],
      "text/plain": [
       "       id            период  минут\n",
       "0  215348     текущий_месяц     14\n",
       "1  215348  предыдцщий_месяц     13\n",
       "2  215349     текущий_месяц     10"
      ]
     },
     "execution_count": 236,
     "metadata": {},
     "output_type": "execute_result"
    }
   ],
   "source": [
    "df_market_time.columns = df_market_time.columns.str.lower()\n",
    "df_market_time.head(3)"
   ]
  },
  {
   "cell_type": "code",
   "execution_count": 237,
   "metadata": {},
   "outputs": [
    {
     "data": {
      "text/html": [
       "<div>\n",
       "<style scoped>\n",
       "    .dataframe tbody tr th:only-of-type {\n",
       "        vertical-align: middle;\n",
       "    }\n",
       "\n",
       "    .dataframe tbody tr th {\n",
       "        vertical-align: top;\n",
       "    }\n",
       "\n",
       "    .dataframe thead th {\n",
       "        text-align: right;\n",
       "    }\n",
       "</style>\n",
       "<table border=\"1\" class=\"dataframe\">\n",
       "  <thead>\n",
       "    <tr style=\"text-align: right;\">\n",
       "      <th></th>\n",
       "      <th>id</th>\n",
       "      <th>Прибыль</th>\n",
       "    </tr>\n",
       "  </thead>\n",
       "  <tbody>\n",
       "    <tr>\n",
       "      <th>0</th>\n",
       "      <td>215348</td>\n",
       "      <td>0.98</td>\n",
       "    </tr>\n",
       "    <tr>\n",
       "      <th>1</th>\n",
       "      <td>215349</td>\n",
       "      <td>4.16</td>\n",
       "    </tr>\n",
       "    <tr>\n",
       "      <th>2</th>\n",
       "      <td>215350</td>\n",
       "      <td>3.13</td>\n",
       "    </tr>\n",
       "  </tbody>\n",
       "</table>\n",
       "</div>"
      ],
      "text/plain": [
       "       id  Прибыль\n",
       "0  215348     0.98\n",
       "1  215349     4.16\n",
       "2  215350     3.13"
      ]
     },
     "execution_count": 237,
     "metadata": {},
     "output_type": "execute_result"
    }
   ],
   "source": [
    "df_money.head(3)"
   ]
  },
  {
   "cell_type": "code",
   "execution_count": 238,
   "metadata": {},
   "outputs": [
    {
     "data": {
      "text/html": [
       "<div>\n",
       "<style scoped>\n",
       "    .dataframe tbody tr th:only-of-type {\n",
       "        vertical-align: middle;\n",
       "    }\n",
       "\n",
       "    .dataframe tbody tr th {\n",
       "        vertical-align: top;\n",
       "    }\n",
       "\n",
       "    .dataframe thead th {\n",
       "        text-align: right;\n",
       "    }\n",
       "</style>\n",
       "<table border=\"1\" class=\"dataframe\">\n",
       "  <thead>\n",
       "    <tr style=\"text-align: right;\">\n",
       "      <th></th>\n",
       "      <th>id</th>\n",
       "      <th>прибыль</th>\n",
       "    </tr>\n",
       "  </thead>\n",
       "  <tbody>\n",
       "    <tr>\n",
       "      <th>0</th>\n",
       "      <td>215348</td>\n",
       "      <td>0.98</td>\n",
       "    </tr>\n",
       "    <tr>\n",
       "      <th>1</th>\n",
       "      <td>215349</td>\n",
       "      <td>4.16</td>\n",
       "    </tr>\n",
       "    <tr>\n",
       "      <th>2</th>\n",
       "      <td>215350</td>\n",
       "      <td>3.13</td>\n",
       "    </tr>\n",
       "  </tbody>\n",
       "</table>\n",
       "</div>"
      ],
      "text/plain": [
       "       id  прибыль\n",
       "0  215348     0.98\n",
       "1  215349     4.16\n",
       "2  215350     3.13"
      ]
     },
     "execution_count": 238,
     "metadata": {},
     "output_type": "execute_result"
    }
   ],
   "source": [
    "df_money.columns = df_money.columns.str.lower()\n",
    "df_money.head(3)"
   ]
  },
  {
   "cell_type": "markdown",
   "metadata": {},
   "source": [
    "##  Data preparation"
   ]
  },
  {
   "cell_type": "markdown",
   "metadata": {},
   "source": [
    "### Preprocessing of df_market_file"
   ]
  },
  {
   "cell_type": "code",
   "execution_count": 241,
   "metadata": {},
   "outputs": [
    {
     "name": "stdout",
     "output_type": "stream",
     "text": [
      "<class 'pandas.core.frame.DataFrame'>\n",
      "RangeIndex: 1300 entries, 0 to 1299\n",
      "Data columns (total 13 columns):\n",
      " #   Column                               Non-Null Count  Dtype  \n",
      "---  ------                               --------------  -----  \n",
      " 0   id                                   1300 non-null   int64  \n",
      " 1   покупательская_активность            1300 non-null   object \n",
      " 2   тип_сервиса                          1300 non-null   object \n",
      " 3   разрешить_сообщать                   1300 non-null   object \n",
      " 4   маркет_актив_6_мес                   1300 non-null   float64\n",
      " 5   маркет_актив_тек_мес                 1300 non-null   int64  \n",
      " 6   длительность                         1300 non-null   int64  \n",
      " 7   акционные_покупки                    1300 non-null   float64\n",
      " 8   популярная_категория                 1300 non-null   object \n",
      " 9   средний_просмотр_категорий_за_визит  1300 non-null   int64  \n",
      " 10  неоплаченные_продукты_штук_квартал   1300 non-null   int64  \n",
      " 11  ошибка_сервиса                       1300 non-null   int64  \n",
      " 12  страниц_за_визит                     1300 non-null   int64  \n",
      "dtypes: float64(2), int64(7), object(4)\n",
      "memory usage: 132.2+ KB\n"
     ]
    }
   ],
   "source": [
    "df_market_file.info()"
   ]
  },
  {
   "cell_type": "code",
   "execution_count": 257,
   "metadata": {},
   "outputs": [
    {
     "name": "stdout",
     "output_type": "stream",
     "text": [
      "0\n"
     ]
    }
   ],
   "source": [
    "print(df_market_file.duplicated().sum())"
   ]
  },
  {
   "cell_type": "code",
   "execution_count": 259,
   "metadata": {},
   "outputs": [
    {
     "data": {
      "text/plain": [
       "покупательская_активность\n",
       "Прежний уровень    802\n",
       "Снизилась          498\n",
       "Name: count, dtype: int64"
      ]
     },
     "execution_count": 259,
     "metadata": {},
     "output_type": "execute_result"
    }
   ],
   "source": [
    "df_market_file['покупательская_активность'].value_counts()"
   ]
  },
  {
   "cell_type": "code",
   "execution_count": 261,
   "metadata": {},
   "outputs": [
    {
     "data": {
      "text/plain": [
       "тип_сервиса\n",
       "стандарт     914\n",
       "премиум      376\n",
       "стандартт     10\n",
       "Name: count, dtype: int64"
      ]
     },
     "execution_count": 261,
     "metadata": {},
     "output_type": "execute_result"
    }
   ],
   "source": [
    "df_market_file['тип_сервиса'].value_counts()"
   ]
  },
  {
   "cell_type": "code",
   "execution_count": 263,
   "metadata": {},
   "outputs": [
    {
     "data": {
      "text/plain": [
       "тип_сервиса\n",
       "стандарт    924\n",
       "премиум     376\n",
       "Name: count, dtype: int64"
      ]
     },
     "execution_count": 263,
     "metadata": {},
     "output_type": "execute_result"
    }
   ],
   "source": [
    "df_market_file['тип_сервиса'] = df_market_file['тип_сервиса'].replace({\n",
    "    'стандартт': 'стандарт'\n",
    "    })\n",
    "df_market_file['тип_сервиса'].value_counts()"
   ]
  },
  {
   "cell_type": "code",
   "execution_count": 265,
   "metadata": {},
   "outputs": [
    {
     "data": {
      "text/plain": [
       "разрешить_сообщать\n",
       "да     962\n",
       "нет    338\n",
       "Name: count, dtype: int64"
      ]
     },
     "execution_count": 265,
     "metadata": {},
     "output_type": "execute_result"
    }
   ],
   "source": [
    "df_market_file['разрешить_сообщать'].value_counts()"
   ]
  },
  {
   "cell_type": "code",
   "execution_count": 267,
   "metadata": {},
   "outputs": [
    {
     "data": {
      "text/plain": [
       "популярная_категория\n",
       "Товары для детей                        330\n",
       "Домашний текстиль                       251\n",
       "Косметика и аксесуары                   223\n",
       "Техника для красоты и здоровья          184\n",
       "Мелкая бытовая техника и электроника    174\n",
       "Кухонная посуда                         138\n",
       "Name: count, dtype: int64"
      ]
     },
     "execution_count": 267,
     "metadata": {},
     "output_type": "execute_result"
    }
   ],
   "source": [
    "df_market_file['популярная_категория'].value_counts()"
   ]
  },
  {
   "cell_type": "markdown",
   "metadata": {},
   "source": [
    "__Findings:__ \n",
    "- there are 1300 observations and 12 features + IDs in the dataset.\n",
    "- Missing values were not found.\n",
    "- duplicates were checked. One implicit duplicate of type_service was detected and corrected."
   ]
  },
  {
   "cell_type": "markdown",
   "metadata": {},
   "source": [
    "### Preprocessing df_market_money"
   ]
  },
  {
   "cell_type": "code",
   "execution_count": 271,
   "metadata": {},
   "outputs": [
    {
     "name": "stdout",
     "output_type": "stream",
     "text": [
      "<class 'pandas.core.frame.DataFrame'>\n",
      "RangeIndex: 3900 entries, 0 to 3899\n",
      "Data columns (total 3 columns):\n",
      " #   Column   Non-Null Count  Dtype  \n",
      "---  ------   --------------  -----  \n",
      " 0   id       3900 non-null   int64  \n",
      " 1   период   3900 non-null   object \n",
      " 2   выручка  3900 non-null   float64\n",
      "dtypes: float64(1), int64(1), object(1)\n",
      "memory usage: 91.5+ KB\n"
     ]
    }
   ],
   "source": [
    "df_market_money.info()"
   ]
  },
  {
   "cell_type": "code",
   "execution_count": 273,
   "metadata": {},
   "outputs": [
    {
     "name": "stdout",
     "output_type": "stream",
     "text": [
      "0\n"
     ]
    }
   ],
   "source": [
    "print(df_market_money.duplicated().sum())"
   ]
  },
  {
   "cell_type": "code",
   "execution_count": 275,
   "metadata": {},
   "outputs": [
    {
     "data": {
      "text/plain": [
       "период\n",
       "препредыдущий_месяц    1300\n",
       "текущий_месяц          1300\n",
       "предыдущий_месяц       1300\n",
       "Name: count, dtype: int64"
      ]
     },
     "execution_count": 275,
     "metadata": {},
     "output_type": "execute_result"
    }
   ],
   "source": [
    "df_market_money['период'].value_counts()"
   ]
  },
  {
   "cell_type": "markdown",
   "metadata": {},
   "source": [
    "__Findings:__ \n",
    "- there are 3900 observations and 2 traits + ID in the dataset.\n",
    "- Missing values were not found.\n",
    "- check for duplicates was performed. One implicit duplicate of a period was detected and corrected."
   ]
  },
  {
   "cell_type": "markdown",
   "metadata": {},
   "source": [
    "### Preprocessing df_market_time"
   ]
  },
  {
   "cell_type": "code",
   "execution_count": 279,
   "metadata": {},
   "outputs": [
    {
     "name": "stdout",
     "output_type": "stream",
     "text": [
      "<class 'pandas.core.frame.DataFrame'>\n",
      "RangeIndex: 2600 entries, 0 to 2599\n",
      "Data columns (total 3 columns):\n",
      " #   Column  Non-Null Count  Dtype \n",
      "---  ------  --------------  ----- \n",
      " 0   id      2600 non-null   int64 \n",
      " 1   период  2600 non-null   object\n",
      " 2   минут   2600 non-null   int64 \n",
      "dtypes: int64(2), object(1)\n",
      "memory usage: 61.1+ KB\n"
     ]
    }
   ],
   "source": [
    "df_market_time.info()"
   ]
  },
  {
   "cell_type": "code",
   "execution_count": 281,
   "metadata": {},
   "outputs": [
    {
     "data": {
      "text/plain": [
       "период\n",
       "текущий_месяц       1300\n",
       "предыдцщий_месяц    1300\n",
       "Name: count, dtype: int64"
      ]
     },
     "execution_count": 281,
     "metadata": {},
     "output_type": "execute_result"
    }
   ],
   "source": [
    "df_market_time['период'].value_counts()"
   ]
  },
  {
   "cell_type": "code",
   "execution_count": 283,
   "metadata": {},
   "outputs": [
    {
     "data": {
      "text/plain": [
       "период\n",
       "текущий_месяц       1300\n",
       "предыдущий_месяц    1300\n",
       "Name: count, dtype: int64"
      ]
     },
     "execution_count": 283,
     "metadata": {},
     "output_type": "execute_result"
    }
   ],
   "source": [
    "df_market_time['период'] = df_market_time['период'].replace({\n",
    "    'предыдцщий_месяц': 'предыдущий_месяц'\n",
    "    })\n",
    "df_market_time['период'].value_counts()"
   ]
  },
  {
   "cell_type": "markdown",
   "metadata": {},
   "source": [
    "__Findings:__ \n",
    "- there are 2600 observations and 2 traits + ID in the dataset.\n",
    "- Missing values are not detected.\n",
    "- check for duplicates was performed, no duplicates were found"
   ]
  },
  {
   "cell_type": "markdown",
   "metadata": {},
   "source": [
    "### Preprocessing of df_money"
   ]
  },
  {
   "cell_type": "code",
   "execution_count": 287,
   "metadata": {},
   "outputs": [
    {
     "name": "stdout",
     "output_type": "stream",
     "text": [
      "<class 'pandas.core.frame.DataFrame'>\n",
      "RangeIndex: 1300 entries, 0 to 1299\n",
      "Data columns (total 2 columns):\n",
      " #   Column   Non-Null Count  Dtype  \n",
      "---  ------   --------------  -----  \n",
      " 0   id       1300 non-null   int64  \n",
      " 1   прибыль  1300 non-null   float64\n",
      "dtypes: float64(1), int64(1)\n",
      "memory usage: 20.4 KB\n"
     ]
    }
   ],
   "source": [
    "df_money.info()"
   ]
  },
  {
   "cell_type": "markdown",
   "metadata": {},
   "source": [
    "__Findings:__ \n",
    "- there are 1300 observations and 1 feature + ID in the dataset\n",
    "- No missing values detected"
   ]
  },
  {
   "cell_type": "markdown",
   "metadata": {},
   "source": [
    "## Exploratory data analysis"
   ]
  },
  {
   "cell_type": "markdown",
   "metadata": {},
   "source": [
    "### EDA df_market_file"
   ]
  },
  {
   "cell_type": "markdown",
   "metadata": {},
   "source": [
    "Let's start by analyzing the quantitative features. Let's look at the general statistical indicators df_market_file"
   ]
  },
  {
   "cell_type": "code",
   "execution_count": 293,
   "metadata": {},
   "outputs": [
    {
     "data": {
      "text/html": [
       "<div>\n",
       "<style scoped>\n",
       "    .dataframe tbody tr th:only-of-type {\n",
       "        vertical-align: middle;\n",
       "    }\n",
       "\n",
       "    .dataframe tbody tr th {\n",
       "        vertical-align: top;\n",
       "    }\n",
       "\n",
       "    .dataframe thead th {\n",
       "        text-align: right;\n",
       "    }\n",
       "</style>\n",
       "<table border=\"1\" class=\"dataframe\">\n",
       "  <thead>\n",
       "    <tr style=\"text-align: right;\">\n",
       "      <th></th>\n",
       "      <th>id</th>\n",
       "      <th>маркет_актив_6_мес</th>\n",
       "      <th>маркет_актив_тек_мес</th>\n",
       "      <th>длительность</th>\n",
       "      <th>акционные_покупки</th>\n",
       "      <th>средний_просмотр_категорий_за_визит</th>\n",
       "      <th>неоплаченные_продукты_штук_квартал</th>\n",
       "      <th>ошибка_сервиса</th>\n",
       "      <th>страниц_за_визит</th>\n",
       "    </tr>\n",
       "  </thead>\n",
       "  <tbody>\n",
       "    <tr>\n",
       "      <th>count</th>\n",
       "      <td>1300.000000</td>\n",
       "      <td>1300.000000</td>\n",
       "      <td>1300.000000</td>\n",
       "      <td>1300.000000</td>\n",
       "      <td>1300.000000</td>\n",
       "      <td>1300.00000</td>\n",
       "      <td>1300.000000</td>\n",
       "      <td>1300.000000</td>\n",
       "      <td>1300.000000</td>\n",
       "    </tr>\n",
       "    <tr>\n",
       "      <th>mean</th>\n",
       "      <td>215997.500000</td>\n",
       "      <td>4.253769</td>\n",
       "      <td>4.011538</td>\n",
       "      <td>601.898462</td>\n",
       "      <td>0.319808</td>\n",
       "      <td>3.27000</td>\n",
       "      <td>2.840000</td>\n",
       "      <td>4.185385</td>\n",
       "      <td>8.176923</td>\n",
       "    </tr>\n",
       "    <tr>\n",
       "      <th>std</th>\n",
       "      <td>375.421985</td>\n",
       "      <td>1.014814</td>\n",
       "      <td>0.696868</td>\n",
       "      <td>249.856289</td>\n",
       "      <td>0.249843</td>\n",
       "      <td>1.35535</td>\n",
       "      <td>1.971451</td>\n",
       "      <td>1.955298</td>\n",
       "      <td>3.978126</td>\n",
       "    </tr>\n",
       "    <tr>\n",
       "      <th>min</th>\n",
       "      <td>215348.000000</td>\n",
       "      <td>0.900000</td>\n",
       "      <td>3.000000</td>\n",
       "      <td>110.000000</td>\n",
       "      <td>0.000000</td>\n",
       "      <td>1.00000</td>\n",
       "      <td>0.000000</td>\n",
       "      <td>0.000000</td>\n",
       "      <td>1.000000</td>\n",
       "    </tr>\n",
       "    <tr>\n",
       "      <th>25%</th>\n",
       "      <td>215672.750000</td>\n",
       "      <td>3.700000</td>\n",
       "      <td>4.000000</td>\n",
       "      <td>405.500000</td>\n",
       "      <td>0.170000</td>\n",
       "      <td>2.00000</td>\n",
       "      <td>1.000000</td>\n",
       "      <td>3.000000</td>\n",
       "      <td>5.000000</td>\n",
       "    </tr>\n",
       "    <tr>\n",
       "      <th>50%</th>\n",
       "      <td>215997.500000</td>\n",
       "      <td>4.200000</td>\n",
       "      <td>4.000000</td>\n",
       "      <td>606.000000</td>\n",
       "      <td>0.240000</td>\n",
       "      <td>3.00000</td>\n",
       "      <td>3.000000</td>\n",
       "      <td>4.000000</td>\n",
       "      <td>8.000000</td>\n",
       "    </tr>\n",
       "    <tr>\n",
       "      <th>75%</th>\n",
       "      <td>216322.250000</td>\n",
       "      <td>4.900000</td>\n",
       "      <td>4.000000</td>\n",
       "      <td>806.000000</td>\n",
       "      <td>0.300000</td>\n",
       "      <td>4.00000</td>\n",
       "      <td>4.000000</td>\n",
       "      <td>6.000000</td>\n",
       "      <td>11.000000</td>\n",
       "    </tr>\n",
       "    <tr>\n",
       "      <th>max</th>\n",
       "      <td>216647.000000</td>\n",
       "      <td>6.600000</td>\n",
       "      <td>5.000000</td>\n",
       "      <td>1079.000000</td>\n",
       "      <td>0.990000</td>\n",
       "      <td>6.00000</td>\n",
       "      <td>10.000000</td>\n",
       "      <td>9.000000</td>\n",
       "      <td>20.000000</td>\n",
       "    </tr>\n",
       "  </tbody>\n",
       "</table>\n",
       "</div>"
      ],
      "text/plain": [
       "                  id  маркет_актив_6_мес  маркет_актив_тек_мес  длительность  \\\n",
       "count    1300.000000         1300.000000           1300.000000   1300.000000   \n",
       "mean   215997.500000            4.253769              4.011538    601.898462   \n",
       "std       375.421985            1.014814              0.696868    249.856289   \n",
       "min    215348.000000            0.900000              3.000000    110.000000   \n",
       "25%    215672.750000            3.700000              4.000000    405.500000   \n",
       "50%    215997.500000            4.200000              4.000000    606.000000   \n",
       "75%    216322.250000            4.900000              4.000000    806.000000   \n",
       "max    216647.000000            6.600000              5.000000   1079.000000   \n",
       "\n",
       "       акционные_покупки  средний_просмотр_категорий_за_визит  \\\n",
       "count        1300.000000                           1300.00000   \n",
       "mean            0.319808                              3.27000   \n",
       "std             0.249843                              1.35535   \n",
       "min             0.000000                              1.00000   \n",
       "25%             0.170000                              2.00000   \n",
       "50%             0.240000                              3.00000   \n",
       "75%             0.300000                              4.00000   \n",
       "max             0.990000                              6.00000   \n",
       "\n",
       "       неоплаченные_продукты_штук_квартал  ошибка_сервиса  страниц_за_визит  \n",
       "count                         1300.000000     1300.000000       1300.000000  \n",
       "mean                             2.840000        4.185385          8.176923  \n",
       "std                              1.971451        1.955298          3.978126  \n",
       "min                              0.000000        0.000000          1.000000  \n",
       "25%                              1.000000        3.000000          5.000000  \n",
       "50%                              3.000000        4.000000          8.000000  \n",
       "75%                              4.000000        6.000000         11.000000  \n",
       "max                             10.000000        9.000000         20.000000  "
      ]
     },
     "execution_count": 293,
     "metadata": {},
     "output_type": "execute_result"
    }
   ],
   "source": [
    "df_market_file.describe()"
   ]
  },
  {
   "cell_type": "markdown",
   "metadata": {},
   "source": [
    "Next, let's look at categorical features."
   ]
  },
  {
   "cell_type": "code",
   "execution_count": 296,
   "metadata": {},
   "outputs": [
    {
     "data": {
      "image/png": "[encoded data removed]",
      "text/plain": [
       "<Figure size 1200x1200 with 4 Axes>"
      ]
     },
     "metadata": {},
     "output_type": "display_data"
    }
   ],
   "source": [
    "columns = [\n",
    "    ('покупательская_активность', 'purchasing_activity', 45),\n",
    "    ('тип_сервиса', 'service_type', 90),\n",
    "    ('разрешить_сообщать', 'contact_allowed', 90),\n",
    "    ('популярная_категория', 'popular category', 45)\n",
    "]\n",
    "\n",
    "plt.figure(figsize=(12, 12))\n",
    "\n",
    "for i, (column, title, angle) in enumerate(columns, 1):\n",
    "    plt.subplot(3, 2, i)\n",
    "    data = df_market_file[column].value_counts()\n",
    "    data.plot(kind='pie', autopct='%1.1f%%', startangle=angle, wedgeprops={'linewidth': 3, 'edgecolor': 'white'})\n",
    "    plt.title(title)\n",
    "\n",
    "plt.show()"
   ]
  },
  {
   "cell_type": "markdown",
   "metadata": {},
   "source": [
    "__Conclusion:__ \n",
    "- No anomalies were found in the quantitative features\n",
    "- Categorical data also looks good"
   ]
  },
  {
   "cell_type": "markdown",
   "metadata": {},
   "source": [
    "### EDA df_market_money"
   ]
  },
  {
   "cell_type": "code",
   "execution_count": 300,
   "metadata": {},
   "outputs": [
    {
     "data": {
      "text/html": [
       "<div>\n",
       "<style scoped>\n",
       "    .dataframe tbody tr th:only-of-type {\n",
       "        vertical-align: middle;\n",
       "    }\n",
       "\n",
       "    .dataframe tbody tr th {\n",
       "        vertical-align: top;\n",
       "    }\n",
       "\n",
       "    .dataframe thead th {\n",
       "        text-align: right;\n",
       "    }\n",
       "</style>\n",
       "<table border=\"1\" class=\"dataframe\">\n",
       "  <thead>\n",
       "    <tr style=\"text-align: right;\">\n",
       "      <th></th>\n",
       "      <th>id</th>\n",
       "      <th>выручка</th>\n",
       "    </tr>\n",
       "  </thead>\n",
       "  <tbody>\n",
       "    <tr>\n",
       "      <th>count</th>\n",
       "      <td>3900.000000</td>\n",
       "      <td>3900.000000</td>\n",
       "    </tr>\n",
       "    <tr>\n",
       "      <th>mean</th>\n",
       "      <td>215997.500000</td>\n",
       "      <td>5025.696051</td>\n",
       "    </tr>\n",
       "    <tr>\n",
       "      <th>std</th>\n",
       "      <td>375.325686</td>\n",
       "      <td>1777.704104</td>\n",
       "    </tr>\n",
       "    <tr>\n",
       "      <th>min</th>\n",
       "      <td>215348.000000</td>\n",
       "      <td>0.000000</td>\n",
       "    </tr>\n",
       "    <tr>\n",
       "      <th>25%</th>\n",
       "      <td>215672.750000</td>\n",
       "      <td>4590.150000</td>\n",
       "    </tr>\n",
       "    <tr>\n",
       "      <th>50%</th>\n",
       "      <td>215997.500000</td>\n",
       "      <td>4957.500000</td>\n",
       "    </tr>\n",
       "    <tr>\n",
       "      <th>75%</th>\n",
       "      <td>216322.250000</td>\n",
       "      <td>5363.000000</td>\n",
       "    </tr>\n",
       "    <tr>\n",
       "      <th>max</th>\n",
       "      <td>216647.000000</td>\n",
       "      <td>106862.200000</td>\n",
       "    </tr>\n",
       "  </tbody>\n",
       "</table>\n",
       "</div>"
      ],
      "text/plain": [
       "                  id        выручка\n",
       "count    3900.000000    3900.000000\n",
       "mean   215997.500000    5025.696051\n",
       "std       375.325686    1777.704104\n",
       "min    215348.000000       0.000000\n",
       "25%    215672.750000    4590.150000\n",
       "50%    215997.500000    4957.500000\n",
       "75%    216322.250000    5363.000000\n",
       "max    216647.000000  106862.200000"
      ]
     },
     "execution_count": 300,
     "metadata": {},
     "output_type": "execute_result"
    }
   ],
   "source": [
    "df_market_money.describe()"
   ]
  },
  {
   "cell_type": "code",
   "execution_count": 302,
   "metadata": {},
   "outputs": [
    {
     "data": {
      "image/png": "[encoded data removed]",
      "text/plain": [
       "<Figure size 1000x600 with 2 Axes>"
      ]
     },
     "metadata": {},
     "output_type": "display_data"
    }
   ],
   "source": [
    "plt.figure(figsize=(10,6))\n",
    "plt.subplot(1, 2, 1)\n",
    "plt.boxplot(df_market_money['выручка'], vert=False)  \n",
    "plt.xlabel('Revenue')\n",
    "plt.title('Revenue Statistics')\n",
    "\n",
    "\n",
    "plt.subplot(1, 2, 2)\n",
    "df_market_money['выручка'].hist(bins=30)\n",
    "plt.title('Revenue Distribution')\n",
    "plt.xlabel('Revenue')\n",
    "plt.ylabel('Quantity')\n",
    "plt.show()"
   ]
  },
  {
   "cell_type": "code",
   "execution_count": 304,
   "metadata": {},
   "outputs": [
    {
     "data": {
      "image/png": "[encoded data removed]",
      "text/plain": [
       "<Figure size 640x480 with 1 Axes>"
      ]
     },
     "metadata": {},
     "output_type": "display_data"
    }
   ],
   "source": [
    "# calculate mean not considering for outliers  \n",
    "mean_value = df_market_money[(df_market_money['выручка'] <= 80000)]['выручка'].mean()\n",
    "# replace outlier with feature mean value\n",
    "df_market_money['выручка'] = df_market_money['выручка'].apply(lambda x: mean_value if x > 80000 else x)\n",
    "\n",
    "df_market_money['выручка'].hist(bins=30)\n",
    "plt.title('Revenue Distribution')\n",
    "plt.xlabel('Revenue')\n",
    "plt.ylabel('Quantity')\n",
    "plt.show()"
   ]
  },
  {
   "cell_type": "markdown",
   "metadata": {},
   "source": [
    "__Conclusion:__ \n",
    "- outliers were detected in the df_market_money dataset and replaced with the mean value"
   ]
  },
  {
   "cell_type": "markdown",
   "metadata": {},
   "source": [
    "### EDA df_market_time"
   ]
  },
  {
   "cell_type": "code",
   "execution_count": 308,
   "metadata": {},
   "outputs": [
    {
     "data": {
      "text/html": [
       "<div>\n",
       "<style scoped>\n",
       "    .dataframe tbody tr th:only-of-type {\n",
       "        vertical-align: middle;\n",
       "    }\n",
       "\n",
       "    .dataframe tbody tr th {\n",
       "        vertical-align: top;\n",
       "    }\n",
       "\n",
       "    .dataframe thead th {\n",
       "        text-align: right;\n",
       "    }\n",
       "</style>\n",
       "<table border=\"1\" class=\"dataframe\">\n",
       "  <thead>\n",
       "    <tr style=\"text-align: right;\">\n",
       "      <th></th>\n",
       "      <th>id</th>\n",
       "      <th>минут</th>\n",
       "    </tr>\n",
       "  </thead>\n",
       "  <tbody>\n",
       "    <tr>\n",
       "      <th>count</th>\n",
       "      <td>2600.000000</td>\n",
       "      <td>2600.000000</td>\n",
       "    </tr>\n",
       "    <tr>\n",
       "      <th>mean</th>\n",
       "      <td>215997.500000</td>\n",
       "      <td>13.336154</td>\n",
       "    </tr>\n",
       "    <tr>\n",
       "      <th>std</th>\n",
       "      <td>375.349754</td>\n",
       "      <td>4.080198</td>\n",
       "    </tr>\n",
       "    <tr>\n",
       "      <th>min</th>\n",
       "      <td>215348.000000</td>\n",
       "      <td>4.000000</td>\n",
       "    </tr>\n",
       "    <tr>\n",
       "      <th>25%</th>\n",
       "      <td>215672.750000</td>\n",
       "      <td>10.000000</td>\n",
       "    </tr>\n",
       "    <tr>\n",
       "      <th>50%</th>\n",
       "      <td>215997.500000</td>\n",
       "      <td>13.000000</td>\n",
       "    </tr>\n",
       "    <tr>\n",
       "      <th>75%</th>\n",
       "      <td>216322.250000</td>\n",
       "      <td>16.000000</td>\n",
       "    </tr>\n",
       "    <tr>\n",
       "      <th>max</th>\n",
       "      <td>216647.000000</td>\n",
       "      <td>23.000000</td>\n",
       "    </tr>\n",
       "  </tbody>\n",
       "</table>\n",
       "</div>"
      ],
      "text/plain": [
       "                  id        минут\n",
       "count    2600.000000  2600.000000\n",
       "mean   215997.500000    13.336154\n",
       "std       375.349754     4.080198\n",
       "min    215348.000000     4.000000\n",
       "25%    215672.750000    10.000000\n",
       "50%    215997.500000    13.000000\n",
       "75%    216322.250000    16.000000\n",
       "max    216647.000000    23.000000"
      ]
     },
     "execution_count": 308,
     "metadata": {},
     "output_type": "execute_result"
    }
   ],
   "source": [
    "df_market_time.describe()"
   ]
  },
  {
   "cell_type": "code",
   "execution_count": 310,
   "metadata": {},
   "outputs": [
    {
     "data": {
      "image/png": "[encoded data removed]",
      "text/plain": [
       "<Figure size 640x480 with 1 Axes>"
      ]
     },
     "metadata": {},
     "output_type": "display_data"
    }
   ],
   "source": [
    "plt.boxplot(df_market_time['минут'], vert=False)  \n",
    "plt.xlabel('Minutes')\n",
    "plt.title('Minutes spent on web site ')\n",
    "plt.show()"
   ]
  },
  {
   "cell_type": "markdown",
   "metadata": {},
   "source": [
    "__Conclusion:__ \n",
    "- no anomalies detected in the df_market_time dataset "
   ]
  },
  {
   "cell_type": "markdown",
   "metadata": {},
   "source": [
    "### EDA df_money"
   ]
  },
  {
   "cell_type": "code",
   "execution_count": 314,
   "metadata": {},
   "outputs": [
    {
     "data": {
      "text/html": [
       "<div>\n",
       "<style scoped>\n",
       "    .dataframe tbody tr th:only-of-type {\n",
       "        vertical-align: middle;\n",
       "    }\n",
       "\n",
       "    .dataframe tbody tr th {\n",
       "        vertical-align: top;\n",
       "    }\n",
       "\n",
       "    .dataframe thead th {\n",
       "        text-align: right;\n",
       "    }\n",
       "</style>\n",
       "<table border=\"1\" class=\"dataframe\">\n",
       "  <thead>\n",
       "    <tr style=\"text-align: right;\">\n",
       "      <th></th>\n",
       "      <th>id</th>\n",
       "      <th>прибыль</th>\n",
       "    </tr>\n",
       "  </thead>\n",
       "  <tbody>\n",
       "    <tr>\n",
       "      <th>count</th>\n",
       "      <td>1300.000000</td>\n",
       "      <td>1300.000000</td>\n",
       "    </tr>\n",
       "    <tr>\n",
       "      <th>mean</th>\n",
       "      <td>215997.500000</td>\n",
       "      <td>3.996631</td>\n",
       "    </tr>\n",
       "    <tr>\n",
       "      <th>std</th>\n",
       "      <td>375.421985</td>\n",
       "      <td>1.013722</td>\n",
       "    </tr>\n",
       "    <tr>\n",
       "      <th>min</th>\n",
       "      <td>215348.000000</td>\n",
       "      <td>0.860000</td>\n",
       "    </tr>\n",
       "    <tr>\n",
       "      <th>25%</th>\n",
       "      <td>215672.750000</td>\n",
       "      <td>3.300000</td>\n",
       "    </tr>\n",
       "    <tr>\n",
       "      <th>50%</th>\n",
       "      <td>215997.500000</td>\n",
       "      <td>4.045000</td>\n",
       "    </tr>\n",
       "    <tr>\n",
       "      <th>75%</th>\n",
       "      <td>216322.250000</td>\n",
       "      <td>4.670000</td>\n",
       "    </tr>\n",
       "    <tr>\n",
       "      <th>max</th>\n",
       "      <td>216647.000000</td>\n",
       "      <td>7.430000</td>\n",
       "    </tr>\n",
       "  </tbody>\n",
       "</table>\n",
       "</div>"
      ],
      "text/plain": [
       "                  id      прибыль\n",
       "count    1300.000000  1300.000000\n",
       "mean   215997.500000     3.996631\n",
       "std       375.421985     1.013722\n",
       "min    215348.000000     0.860000\n",
       "25%    215672.750000     3.300000\n",
       "50%    215997.500000     4.045000\n",
       "75%    216322.250000     4.670000\n",
       "max    216647.000000     7.430000"
      ]
     },
     "execution_count": 314,
     "metadata": {},
     "output_type": "execute_result"
    }
   ],
   "source": [
    "df_money.describe()"
   ]
  },
  {
   "cell_type": "code",
   "execution_count": 316,
   "metadata": {},
   "outputs": [
    {
     "data": {
      "image/png": "[encoded data removed]",
      "text/plain": [
       "<Figure size 640x480 with 1 Axes>"
      ]
     },
     "metadata": {},
     "output_type": "display_data"
    }
   ],
   "source": [
    "plt.boxplot(df_money['прибыль'], vert=False)  \n",
    "plt.xlabel('Revenue')\n",
    "plt.title('Revenue statistics')\n",
    "plt.show()"
   ]
  },
  {
   "cell_type": "markdown",
   "metadata": {},
   "source": [
    "__ Conclusion:__ \n",
    "- Revenue in the df_money and the df_market_money has different rounding "
   ]
  },
  {
   "cell_type": "markdown",
   "metadata": {},
   "source": [
    "### Customers with purchasing activity"
   ]
  },
  {
   "cell_type": "markdown",
   "metadata": {},
   "source": [
    "Let's select customers with purchasing activity for at least three months, meaning those who have made a purchase during this period."
   ]
  },
  {
   "cell_type": "code",
   "execution_count": 321,
   "metadata": {},
   "outputs": [
    {
     "name": "stdout",
     "output_type": "stream",
     "text": [
      "(3900, 3)\n"
     ]
    }
   ],
   "source": [
    "print(df_market_money.shape)"
   ]
  },
  {
   "cell_type": "code",
   "execution_count": 323,
   "metadata": {},
   "outputs": [
    {
     "data": {
      "text/plain": [
       "(1300, 3)"
      ]
     },
     "metadata": {},
     "output_type": "display_data"
    },
    {
     "data": {
      "text/plain": [
       "(3, 3)"
      ]
     },
     "metadata": {},
     "output_type": "display_data"
    }
   ],
   "source": [
    "df_pivot = df_market_money.pivot_table(index='id', columns='период', values='выручка')\n",
    "display(df_pivot.shape)\n",
    "df_filtered = df_pivot[((df_pivot['текущий_месяц'] == 0)) |\n",
    "                      ((df_pivot['предыдущий_месяц'] == 0)) |\n",
    "                      ((df_pivot['препредыдущий_месяц'] == 0))]\n",
    "display(df_filtered.shape)"
   ]
  },
  {
   "cell_type": "markdown",
   "metadata": {},
   "source": [
    "Three customers with low purchasing power have been identified; let's remove them from the dataset."
   ]
  },
  {
   "cell_type": "code",
   "execution_count": 326,
   "metadata": {},
   "outputs": [
    {
     "name": "stdout",
     "output_type": "stream",
     "text": [
      "(3891, 3)\n"
     ]
    }
   ],
   "source": [
    "to_delete = df_filtered.index\n",
    "df_market_money = df_market_money[~df_market_money['id'].isin(to_delete)]\n",
    "print(df_market_money.shape)"
   ]
  },
  {
   "cell_type": "markdown",
   "metadata": {},
   "source": [
    "**Conclusion:**\n",
    "\n",
    "- Anomalies have been corrected.\n",
    "- Three inactive users have been removed."
   ]
  },
  {
   "cell_type": "markdown",
   "metadata": {},
   "source": [
    "## Merging tables"
   ]
  },
  {
   "cell_type": "markdown",
   "metadata": {},
   "source": [
    "Merging the tables:  market_file.csv, market_money.csv, market_time.csv. "
   ]
  },
  {
   "cell_type": "code",
   "execution_count": 331,
   "metadata": {},
   "outputs": [
    {
     "data": {
      "text/html": [
       "<div>\n",
       "<style scoped>\n",
       "    .dataframe tbody tr th:only-of-type {\n",
       "        vertical-align: middle;\n",
       "    }\n",
       "\n",
       "    .dataframe tbody tr th {\n",
       "        vertical-align: top;\n",
       "    }\n",
       "\n",
       "    .dataframe thead th {\n",
       "        text-align: right;\n",
       "    }\n",
       "</style>\n",
       "<table border=\"1\" class=\"dataframe\">\n",
       "  <thead>\n",
       "    <tr style=\"text-align: right;\">\n",
       "      <th></th>\n",
       "      <th>id</th>\n",
       "      <th>покупательская_активность</th>\n",
       "      <th>тип_сервиса</th>\n",
       "      <th>разрешить_сообщать</th>\n",
       "      <th>маркет_актив_6_мес</th>\n",
       "      <th>маркет_актив_тек_мес</th>\n",
       "      <th>длительность</th>\n",
       "      <th>акционные_покупки</th>\n",
       "      <th>популярная_категория</th>\n",
       "      <th>средний_просмотр_категорий_за_визит</th>\n",
       "      <th>неоплаченные_продукты_штук_квартал</th>\n",
       "      <th>ошибка_сервиса</th>\n",
       "      <th>страниц_за_визит</th>\n",
       "      <th>период</th>\n",
       "      <th>выручка</th>\n",
       "      <th>период_time</th>\n",
       "      <th>минут</th>\n",
       "    </tr>\n",
       "  </thead>\n",
       "  <tbody>\n",
       "    <tr>\n",
       "      <th>0</th>\n",
       "      <td>215349</td>\n",
       "      <td>Снизилась</td>\n",
       "      <td>премиум</td>\n",
       "      <td>да</td>\n",
       "      <td>4.4</td>\n",
       "      <td>4</td>\n",
       "      <td>819</td>\n",
       "      <td>0.75</td>\n",
       "      <td>Товары для детей</td>\n",
       "      <td>4</td>\n",
       "      <td>4</td>\n",
       "      <td>2</td>\n",
       "      <td>5</td>\n",
       "      <td>препредыдущий_месяц</td>\n",
       "      <td>4472.0</td>\n",
       "      <td>текущий_месяц</td>\n",
       "      <td>10</td>\n",
       "    </tr>\n",
       "    <tr>\n",
       "      <th>1</th>\n",
       "      <td>215349</td>\n",
       "      <td>Снизилась</td>\n",
       "      <td>премиум</td>\n",
       "      <td>да</td>\n",
       "      <td>4.4</td>\n",
       "      <td>4</td>\n",
       "      <td>819</td>\n",
       "      <td>0.75</td>\n",
       "      <td>Товары для детей</td>\n",
       "      <td>4</td>\n",
       "      <td>4</td>\n",
       "      <td>2</td>\n",
       "      <td>5</td>\n",
       "      <td>препредыдущий_месяц</td>\n",
       "      <td>4472.0</td>\n",
       "      <td>предыдущий_месяц</td>\n",
       "      <td>12</td>\n",
       "    </tr>\n",
       "    <tr>\n",
       "      <th>2</th>\n",
       "      <td>215349</td>\n",
       "      <td>Снизилась</td>\n",
       "      <td>премиум</td>\n",
       "      <td>да</td>\n",
       "      <td>4.4</td>\n",
       "      <td>4</td>\n",
       "      <td>819</td>\n",
       "      <td>0.75</td>\n",
       "      <td>Товары для детей</td>\n",
       "      <td>4</td>\n",
       "      <td>4</td>\n",
       "      <td>2</td>\n",
       "      <td>5</td>\n",
       "      <td>текущий_месяц</td>\n",
       "      <td>4971.6</td>\n",
       "      <td>текущий_месяц</td>\n",
       "      <td>10</td>\n",
       "    </tr>\n",
       "  </tbody>\n",
       "</table>\n",
       "</div>"
      ],
      "text/plain": [
       "       id покупательская_активность тип_сервиса разрешить_сообщать  \\\n",
       "0  215349                 Снизилась     премиум                 да   \n",
       "1  215349                 Снизилась     премиум                 да   \n",
       "2  215349                 Снизилась     премиум                 да   \n",
       "\n",
       "   маркет_актив_6_мес  маркет_актив_тек_мес  длительность  акционные_покупки  \\\n",
       "0                 4.4                     4           819               0.75   \n",
       "1                 4.4                     4           819               0.75   \n",
       "2                 4.4                     4           819               0.75   \n",
       "\n",
       "  популярная_категория  средний_просмотр_категорий_за_визит  \\\n",
       "0     Товары для детей                                    4   \n",
       "1     Товары для детей                                    4   \n",
       "2     Товары для детей                                    4   \n",
       "\n",
       "   неоплаченные_продукты_штук_квартал  ошибка_сервиса  страниц_за_визит  \\\n",
       "0                                   4               2                 5   \n",
       "1                                   4               2                 5   \n",
       "2                                   4               2                 5   \n",
       "\n",
       "                период  выручка       период_time  минут  \n",
       "0  препредыдущий_месяц   4472.0     текущий_месяц     10  \n",
       "1  препредыдущий_месяц   4472.0  предыдущий_месяц     12  \n",
       "2        текущий_месяц   4971.6     текущий_месяц     10  "
      ]
     },
     "metadata": {},
     "output_type": "display_data"
    }
   ],
   "source": [
    "df_market = df_market_file.merge(df_market_money, on = 'id', suffixes=('','_money')).merge(df_market_time, on = 'id', suffixes=('','_time'))\n",
    "display(df_market.head(3))"
   ]
  },
  {
   "cell_type": "code",
   "execution_count": 333,
   "metadata": {},
   "outputs": [
    {
     "name": "stdout",
     "output_type": "stream",
     "text": [
      "период_time  предыдущий_месяц  текущий_месяц\n",
      "id                                          \n",
      "215349                     12             10\n",
      "215350                      8             13\n",
      "215351                     11             13\n",
      "215352                      8             11\n",
      "215353                     10             10\n",
      "...                       ...            ...\n",
      "216643                     14              7\n",
      "216644                     12             11\n",
      "216645                     12             18\n",
      "216646                     18              7\n",
      "216647                     15             10\n",
      "\n",
      "[1297 rows x 2 columns]\n"
     ]
    }
   ],
   "source": [
    "# group by id revenue and time per period\n",
    "df_piv_profit = df_market.pivot_table(index = 'id', columns = 'период', values = 'выручка',  aggfunc='first')\n",
    "df_piv_time = df_market.pivot_table(index = 'id', columns = 'период_time',values = 'минут', aggfunc = 'first') \n",
    "print(df_piv_time)"
   ]
  },
  {
   "cell_type": "code",
   "execution_count": 335,
   "metadata": {},
   "outputs": [
    {
     "name": "stdout",
     "output_type": "stream",
     "text": [
      "        выручка_предыдущий_месяц  выручка_предпредыдущий_месяц  \\\n",
      "id                                                               \n",
      "215349                    5216.0                        4472.0   \n",
      "215350                    5457.5                        4826.0   \n",
      "215351                    6158.0                        4793.0   \n",
      "215352                    5807.5                        4594.0   \n",
      "215353                    4738.5                        5124.0   \n",
      "...                          ...                           ...   \n",
      "216643                    3664.0                        4704.0   \n",
      "216644                    4729.0                        5299.0   \n",
      "216645                    5160.0                        5334.0   \n",
      "216646                    4923.0                        4725.0   \n",
      "216647                    4720.0                        5183.0   \n",
      "\n",
      "        выручка_текущий_месяц  \n",
      "id                             \n",
      "215349                 4971.6  \n",
      "215350                 5058.4  \n",
      "215351                 6610.4  \n",
      "215352                 5872.5  \n",
      "215353                 5388.5  \n",
      "...                       ...  \n",
      "216643                 4741.7  \n",
      "216644                 5353.0  \n",
      "216645                 5139.2  \n",
      "216646                 5224.6  \n",
      "216647                 4448.3  \n",
      "\n",
      "[1297 rows x 3 columns]\n",
      "        минут_предыдущий_месяц  минут_текущий_месяц\n",
      "id                                                 \n",
      "215349                      12                   10\n",
      "215350                       8                   13\n",
      "215351                      11                   13\n",
      "215352                       8                   11\n",
      "215353                      10                   10\n",
      "...                        ...                  ...\n",
      "216643                      14                    7\n",
      "216644                      12                   11\n",
      "216645                      12                   18\n",
      "216646                      18                    7\n",
      "216647                      15                   10\n",
      "\n",
      "[1297 rows x 2 columns]\n"
     ]
    }
   ],
   "source": [
    "#переименуем колонки\n",
    "df_piv_profit.columns = ['выручка_предыдущий_месяц', 'выручка_предпредыдущий_месяц','выручка_текущий_месяц']\n",
    "df_piv_time.columns = [ 'минут_предыдущий_месяц', 'минут_текущий_месяц']\n",
    "print(df_piv_profit)\n",
    "print(df_piv_time)"
   ]
  },
  {
   "cell_type": "code",
   "execution_count": 337,
   "metadata": {},
   "outputs": [
    {
     "data": {
      "text/plain": [
       "(1297, 18)"
      ]
     },
     "execution_count": 337,
     "metadata": {},
     "output_type": "execute_result"
    }
   ],
   "source": [
    "df_final = df_market_file.merge(df_piv_profit, on='id').merge(df_piv_time, on='id')\n",
    "df_final.shape"
   ]
  },
  {
   "cell_type": "markdown",
   "metadata": {},
   "source": [
    "## Correlation analysis"
   ]
  },
  {
   "cell_type": "markdown",
   "metadata": {},
   "source": [
    "Let's start by examining the interaction between features.  \n",
    "We will create a correlation matrix between the features. "
   ]
  },
  {
   "cell_type": "code",
   "execution_count": 341,
   "metadata": {},
   "outputs": [],
   "source": [
    "df_final = df_final.set_index('id')"
   ]
  },
  {
   "cell_type": "code",
   "execution_count": 343,
   "metadata": {},
   "outputs": [
    {
     "name": "stderr",
     "output_type": "stream",
     "text": [
      "/opt/anaconda3/lib/python3.11/site-packages/phik/data_quality.py:59: UserWarning: The number of unique values of variable выручка_предыдущий_месяц is large: 1121. Are you sure this is not an interval variable? Analysis for pairs of variables including выручка_предыдущий_месяц can be slow.\n",
      "  warnings.warn(\n",
      "/opt/anaconda3/lib/python3.11/site-packages/phik/data_quality.py:59: UserWarning: The number of unique values of variable выручка_текущий_месяц is large: 1239. Are you sure this is not an interval variable? Analysis for pairs of variables including выручка_текущий_месяц can be slow.\n",
      "  warnings.warn(\n"
     ]
    },
    {
     "data": {
      "image/png": "[encoded data removed]",
      "text/plain": [
       "<Figure size 1200x1000 with 2 Axes>"
      ]
     },
     "metadata": {},
     "output_type": "display_data"
    }
   ],
   "source": [
    "interval_cols = ['маркет_актив_6_мес', 'длительность', 'акционные_покупки', \n",
    "                 'выручка_за_предпредыдущий_месяц', 'выручка_за_предыдущий_месяц', 'выручка_за_текущий_месяц']\n",
    "\n",
    "# Определяем количество бинов для интервальных переменных\n",
    "bins = {\n",
    "    'маркет_актив_6_мес': 5,\n",
    "    'длительность': 5,\n",
    "    'акционные_покупки': 5,\n",
    "    'выручка_за_предпредыдущий_месяц': 5,\n",
    "    'выручка_за_предыдущий_месяц': 5,\n",
    "    'выручка_за_текущий_месяц': 5\n",
    "}\n",
    "\n",
    "# Вычисление phik корреляционной матрицы\n",
    "phik_matrix = df_final.phik_matrix(interval_cols=interval_cols, bins=bins)\n",
    "\n",
    "# визуализировать матрицу корреляций\n",
    "plt.figure(figsize=(12, 10))\n",
    "sns.heatmap(phik_matrix, cmap='coolwarm', center=0, annot=True, fmt=\".2f\")\n",
    "plt.title(\"Phik Correlation Matrix\")\n",
    "plt.show()"
   ]
  },
  {
   "cell_type": "code",
   "execution_count": 344,
   "metadata": {},
   "outputs": [
    {
     "data": {
      "text/html": [
       "<div>\n",
       "<style scoped>\n",
       "    .dataframe tbody tr th:only-of-type {\n",
       "        vertical-align: middle;\n",
       "    }\n",
       "\n",
       "    .dataframe tbody tr th {\n",
       "        vertical-align: top;\n",
       "    }\n",
       "\n",
       "    .dataframe thead th {\n",
       "        text-align: right;\n",
       "    }\n",
       "</style>\n",
       "<table border=\"1\" class=\"dataframe\">\n",
       "  <thead>\n",
       "    <tr style=\"text-align: right;\">\n",
       "      <th></th>\n",
       "      <th>feature</th>\n",
       "      <th>VIF</th>\n",
       "    </tr>\n",
       "  </thead>\n",
       "  <tbody>\n",
       "    <tr>\n",
       "      <th>0</th>\n",
       "      <td>маркет_актив_6_мес</td>\n",
       "      <td>1.222024</td>\n",
       "    </tr>\n",
       "    <tr>\n",
       "      <th>1</th>\n",
       "      <td>маркет_актив_тек_мес</td>\n",
       "      <td>1.044482</td>\n",
       "    </tr>\n",
       "    <tr>\n",
       "      <th>2</th>\n",
       "      <td>выручка_предпредыдущий_месяц</td>\n",
       "      <td>1.612463</td>\n",
       "    </tr>\n",
       "    <tr>\n",
       "      <th>3</th>\n",
       "      <td>длительность</td>\n",
       "      <td>1.099467</td>\n",
       "    </tr>\n",
       "    <tr>\n",
       "      <th>4</th>\n",
       "      <td>акционные_покупки</td>\n",
       "      <td>1.186329</td>\n",
       "    </tr>\n",
       "    <tr>\n",
       "      <th>5</th>\n",
       "      <td>средний_просмотр_категорий_за_визит</td>\n",
       "      <td>1.178637</td>\n",
       "    </tr>\n",
       "    <tr>\n",
       "      <th>6</th>\n",
       "      <td>неоплаченные_продукты_штук_квартал</td>\n",
       "      <td>1.198188</td>\n",
       "    </tr>\n",
       "    <tr>\n",
       "      <th>7</th>\n",
       "      <td>ошибка_сервиса</td>\n",
       "      <td>1.079304</td>\n",
       "    </tr>\n",
       "    <tr>\n",
       "      <th>8</th>\n",
       "      <td>страниц_за_визит</td>\n",
       "      <td>1.417234</td>\n",
       "    </tr>\n",
       "    <tr>\n",
       "      <th>9</th>\n",
       "      <td>выручка_текущий_месяц</td>\n",
       "      <td>3.872051</td>\n",
       "    </tr>\n",
       "    <tr>\n",
       "      <th>10</th>\n",
       "      <td>выручка_предыдущий_месяц</td>\n",
       "      <td>4.237893</td>\n",
       "    </tr>\n",
       "    <tr>\n",
       "      <th>11</th>\n",
       "      <td>минут_текущий_месяц</td>\n",
       "      <td>1.321100</td>\n",
       "    </tr>\n",
       "    <tr>\n",
       "      <th>12</th>\n",
       "      <td>минут_предыдущий_месяц</td>\n",
       "      <td>1.527000</td>\n",
       "    </tr>\n",
       "  </tbody>\n",
       "</table>\n",
       "</div>"
      ],
      "text/plain": [
       "                                feature       VIF\n",
       "0                    маркет_актив_6_мес  1.222024\n",
       "1                  маркет_актив_тек_мес  1.044482\n",
       "2          выручка_предпредыдущий_месяц  1.612463\n",
       "3                          длительность  1.099467\n",
       "4                     акционные_покупки  1.186329\n",
       "5   средний_просмотр_категорий_за_визит  1.178637\n",
       "6    неоплаченные_продукты_штук_квартал  1.198188\n",
       "7                        ошибка_сервиса  1.079304\n",
       "8                      страниц_за_визит  1.417234\n",
       "9                 выручка_текущий_месяц  3.872051\n",
       "10             выручка_предыдущий_месяц  4.237893\n",
       "11                  минут_текущий_месяц  1.321100\n",
       "12               минут_предыдущий_месяц  1.527000"
      ]
     },
     "metadata": {},
     "output_type": "display_data"
    }
   ],
   "source": [
    "quantitative_features = ['маркет_актив_6_мес', 'маркет_актив_тек_мес', 'выручка_предпредыдущий_месяц','длительность', 'акционные_покупки', 'средний_просмотр_категорий_за_визит', 'неоплаченные_продукты_штук_квартал', 'ошибка_сервиса', 'страниц_за_визит', 'выручка_текущий_месяц', 'выручка_предыдущий_месяц', 'минут_текущий_месяц', 'минут_предыдущий_месяц']\n",
    "vif_data = df_final[quantitative_features]\n",
    "vif_data = vif_data.assign(const=1)\n",
    "vif = pd.DataFrame({\n",
    "    'feature': quantitative_features,\n",
    "    'VIF': [variance_inflation_factor(vif_data.values, i) for i in range(len(quantitative_features))]})\n",
    "display(vif)\n",
    "\n"
   ]
  },
  {
   "cell_type": "markdown",
   "metadata": {},
   "source": [
    "__Conclusion:__  \n",
    "**Multicollinearity**  \n",
    "- High multicollinearity was detected between the feature \"revenue_current_month\" and other features according to the phik matrix (>0.8).\n",
    "- This is also observable in the VIF factor (3.8).\n",
    "- To avoid multicollinearity, the \"revenue_current_month\" feature can be excluded from the model selection process."
   ]
  },
  {
   "cell_type": "markdown",
   "metadata": {},
   "source": [
    "## Pipeline creation \n"
   ]
  },
  {
   "cell_type": "markdown",
   "metadata": {},
   "source": [
    "At this stage, we will take the following steps:\n",
    "1) Split the dataset into training and testing sets. The target variable is \"purchasing_activity.\"\n",
    "2) Process numerical and categorical features in a pipeline:\n",
    "   - For numerical features, we will use StandardScaler() and MinMaxScaler().\n",
    "   - For categorical features, we will use OneHotEncoder.\n",
    "   - For the target variable, we will use LabelEncoder.\n",
    "3) Prepare the final pipeline and a dictionary for four models, which will include hyperparameters for:\n",
    "   - KNeighborsClassifier()\n",
    "   - DecisionTreeClassifier()\n",
    "   - LogisticRegression()\n",
    "   - SVC()\n",
    "4) We will use ROC AUC as the metric because it allows us to determine the best ROC curve for binary classification of objects.\n",
    "   - The ROC curve displays the relationship between the True Positive Rate and the False Positive Rate, allowing us to assess how well the model distinguishes between classes 0 and 1, considering different thresholds.\n",
    "   - A significant advantage of this metric is that it evaluates model quality across different classification thresholds, making it more general and effective.\n",
    "   - It takes into account False Positive (Type I) and False Negative (Type II) errors.\n",
    "\n"
   ]
  },
  {
   "cell_type": "code",
   "execution_count": 348,
   "metadata": {},
   "outputs": [],
   "source": [
    "RANDOM_STATE = 42\n",
    "TEST_SIZE = 0.25\n",
    "\n",
    "\n",
    "X = df_final.drop(['покупательская_активность', 'выручка_текущий_месяц'], axis=1)\n",
    "y = df_final['покупательская_активность']\n",
    "\n",
    "X_train, X_test, y_train, y_test = train_test_split(\n",
    "    X,\n",
    "    y,\n",
    "    test_size = TEST_SIZE, \n",
    "    random_state = RANDOM_STATE,\n",
    "    stratify = y\n",
    ")"
   ]
  },
  {
   "cell_type": "code",
   "execution_count": 349,
   "metadata": {},
   "outputs": [],
   "source": [
    "# encode targer feature  \n",
    "label_encoder = LabelEncoder()\n",
    "y_train_encoded = label_encoder.fit_transform(y_train)\n",
    "y_test_encoded = label_encoder.transform(y_test)"
   ]
  },
  {
   "cell_type": "code",
   "execution_count": 354,
   "metadata": {},
   "outputs": [],
   "source": [
    "#categorical features\n",
    "ohe_columns = [  \n",
    "    'популярная_категория'\n",
    "]"
   ]
  },
  {
   "cell_type": "code",
   "execution_count": 356,
   "metadata": {},
   "outputs": [],
   "source": [
    "#ordinal features \n",
    "ord_columns = [\n",
    "    'тип_сервиса', 'разрешить_сообщать' \n",
    "]"
   ]
  },
  {
   "cell_type": "code",
   "execution_count": 358,
   "metadata": {},
   "outputs": [],
   "source": [
    "#numeric featurs \n",
    "num_columns = ['маркет_актив_6_мес', \n",
    "               'маркет_актив_тек_мес',\n",
    "               'длительность', \n",
    "               'акционные_покупки', \n",
    "               'средний_просмотр_категорий_за_визит',\n",
    "               'неоплаченные_продукты_штук_квартал',\n",
    "                'ошибка_сервиса',\n",
    "               'страниц_за_визит', \n",
    "               'выручка_предыдущий_месяц',\n",
    "                'выручка_предпредыдущий_месяц',\n",
    "               'минут_предыдущий_месяц',\n",
    "               'минут_текущий_месяц'\n",
    "               ] "
   ]
  },
  {
   "cell_type": "code",
   "execution_count": 360,
   "metadata": {},
   "outputs": [],
   "source": [
    "# create pipeline to prepare features from ohe_columns\n",
    "ohe_pipe = Pipeline(\n",
    "    [\n",
    "        (\n",
    "            'simpleImputer_ohe', \n",
    "            SimpleImputer(missing_values=np.nan, strategy='most_frequent')\n",
    "        ),\n",
    "        (\n",
    "            'ohe', \n",
    "            OneHotEncoder(drop='first', handle_unknown='ignore', sparse_output=False)\n",
    "        ), \n",
    "        \n",
    "    ]\n",
    ") \n",
    "# create pipeline to prepare features from  ord_columns\n",
    "ord_pipe = Pipeline(\n",
    "    [\n",
    "        (\n",
    "            'simpleImputer_before_ord', \n",
    "            SimpleImputer(missing_values=np.nan, strategy='most_frequent')\n",
    "        ),\n",
    "        (  'ord',  \n",
    "            OrdinalEncoder(\n",
    "                categories=[\n",
    "                    ['стандарт', 'премиум'], \n",
    "                    ['нет', 'да'],\n",
    "                ], \n",
    "                handle_unknown='use_encoded_value', unknown_value=np.nan\n",
    "            )\n",
    "        ),\n",
    "        (\n",
    "            'simpleImputer_after_ord', \n",
    "            SimpleImputer(missing_values=np.nan, strategy='most_frequent')\n",
    "        )\n",
    "    ]\n",
    ") \n",
    "# create pipeline to prepare features from  num_columns\n",
    "num_preprocessor_standard = Pipeline([\n",
    "    ('simpleImputer_num', SimpleImputer(strategy='mean')),\n",
    "    ('scaler', StandardScaler())\n",
    "])\n",
    "\n",
    "num_preprocessor_minmax = Pipeline([\n",
    "    ('simpleImputer_num', SimpleImputer(strategy='mean')),\n",
    "    ('scaler', MinMaxScaler())\n",
    "])\n",
    "\n",
    "# create data preprocessing pipeline \n",
    "data_preprocessor = ColumnTransformer(\n",
    "    [\n",
    "        ('ohe', ohe_pipe, ohe_columns),\n",
    "        ('ord', ord_pipe, ord_columns),\n",
    "        ('num', StandardScaler(), num_columns)\n",
    "    ], \n",
    "    remainder='passthrough'\n",
    ") \n",
    "\n",
    "\n",
    "# final pipeline: data preprocessing and model \n",
    "pipe_final = Pipeline(\n",
    "    [\n",
    "        ('preprocessor', data_preprocessor),\n",
    "        ('models', DecisionTreeClassifier(random_state=RANDOM_STATE))\n",
    "    ]\n",
    ")\n",
    "\n",
    "param_grid = [\n",
    "    # grid for DecisionTreeClassifier()\n",
    "    {\n",
    "        'models': [DecisionTreeClassifier(random_state=RANDOM_STATE)],\n",
    "        'models__max_depth': range(2, 7),\n",
    "        'models__max_features': range(2, 8),\n",
    "        'preprocessor__num': [StandardScaler(), MinMaxScaler(), 'passthrough']  \n",
    "    },\n",
    "    \n",
    "    # grid for KNeighborsClassifier() \n",
    "    {\n",
    "        'models': [KNeighborsClassifier()],\n",
    "        'models__n_neighbors': range(2, 7),\n",
    "        'preprocessor__num': [StandardScaler(), MinMaxScaler(), 'passthrough']   \n",
    "    },\n",
    "\n",
    "    # grid for LogisticRegression()\n",
    "    {\n",
    "        'models': [LogisticRegression(\n",
    "            random_state=RANDOM_STATE, \n",
    "            solver='liblinear'\n",
    "        )],\n",
    "        'models__C': range(1, 5),\n",
    "        'preprocessor__num': [StandardScaler(), MinMaxScaler(), 'passthrough']  \n",
    "    }, \n",
    "    # grid for SVC()\n",
    "    {\n",
    "        'models': [SVC(random_state=RANDOM_STATE, probability=True)],\n",
    "        'models__C': range(1, 5),\n",
    "        'preprocessor__num': [StandardScaler(), MinMaxScaler(), 'passthrough']  \n",
    "\n",
    "    }\n",
    "]"
   ]
  },
  {
   "cell_type": "code",
   "execution_count": 362,
   "metadata": {},
   "outputs": [],
   "source": [
    "randomized_search = RandomizedSearchCV(\n",
    "    pipe_final, \n",
    "    param_grid, \n",
    "    cv=5,\n",
    "    scoring='roc_auc',\n",
    "    random_state=RANDOM_STATE,\n",
    "    n_jobs=-1\n",
    ")"
   ]
  },
  {
   "cell_type": "code",
   "execution_count": 364,
   "metadata": {},
   "outputs": [
    {
     "name": "stdout",
     "output_type": "stream",
     "text": [
      "Dummy Classifier Score: 0.6184615384615385\n"
     ]
    }
   ],
   "source": [
    "# create and train DummyClassifier\n",
    "clf_dummy = DummyClassifier(strategy=\"most_frequent\")\n",
    "clf_dummy.fit(X_train, y_train)\n",
    "\n",
    "# test model on test data\n",
    "score = clf_dummy.score(X_test, y_test)\n",
    "\n",
    "print(f'Dummy Classifier Score: {score}')"
   ]
  },
  {
   "cell_type": "markdown",
   "metadata": {},
   "source": [
    "We will use a `DummyClassifier` to establish a reference point with an ROC AUC score of 0.6. This means that our model should not perform worse than this baseline metric."
   ]
  },
  {
   "cell_type": "code",
   "execution_count": 367,
   "metadata": {},
   "outputs": [
    {
     "data": {
      "text/html": [
       "<style>#sk-container-id-2 {color: black;background-color: white;}#sk-container-id-2 pre{padding: 0;}#sk-container-id-2 div.sk-toggleable {background-color: white;}#sk-container-id-2 label.sk-toggleable__label {cursor: pointer;display: block;width: 100%;margin-bottom: 0;padding: 0.3em;box-sizing: border-box;text-align: center;}#sk-container-id-2 label.sk-toggleable__label-arrow:before {content: \"▸\";float: left;margin-right: 0.25em;color: #696969;}#sk-container-id-2 label.sk-toggleable__label-arrow:hover:before {color: black;}#sk-container-id-2 div.sk-estimator:hover label.sk-toggleable__label-arrow:before {color: black;}#sk-container-id-2 div.sk-toggleable__content {max-height: 0;max-width: 0;overflow: hidden;text-align: left;background-color: #f0f8ff;}#sk-container-id-2 div.sk-toggleable__content pre {margin: 0.2em;color: black;border-radius: 0.25em;background-color: #f0f8ff;}#sk-container-id-2 input.sk-toggleable__control:checked~div.sk-toggleable__content {max-height: 200px;max-width: 100%;overflow: auto;}#sk-container-id-2 input.sk-toggleable__control:checked~label.sk-toggleable__label-arrow:before {content: \"▾\";}#sk-container-id-2 div.sk-estimator input.sk-toggleable__control:checked~label.sk-toggleable__label {background-color: #d4ebff;}#sk-container-id-2 div.sk-label input.sk-toggleable__control:checked~label.sk-toggleable__label {background-color: #d4ebff;}#sk-container-id-2 input.sk-hidden--visually {border: 0;clip: rect(1px 1px 1px 1px);clip: rect(1px, 1px, 1px, 1px);height: 1px;margin: -1px;overflow: hidden;padding: 0;position: absolute;width: 1px;}#sk-container-id-2 div.sk-estimator {font-family: monospace;background-color: #f0f8ff;border: 1px dotted black;border-radius: 0.25em;box-sizing: border-box;margin-bottom: 0.5em;}#sk-container-id-2 div.sk-estimator:hover {background-color: #d4ebff;}#sk-container-id-2 div.sk-parallel-item::after {content: \"\";width: 100%;border-bottom: 1px solid gray;flex-grow: 1;}#sk-container-id-2 div.sk-label:hover label.sk-toggleable__label {background-color: #d4ebff;}#sk-container-id-2 div.sk-serial::before {content: \"\";position: absolute;border-left: 1px solid gray;box-sizing: border-box;top: 0;bottom: 0;left: 50%;z-index: 0;}#sk-container-id-2 div.sk-serial {display: flex;flex-direction: column;align-items: center;background-color: white;padding-right: 0.2em;padding-left: 0.2em;position: relative;}#sk-container-id-2 div.sk-item {position: relative;z-index: 1;}#sk-container-id-2 div.sk-parallel {display: flex;align-items: stretch;justify-content: center;background-color: white;position: relative;}#sk-container-id-2 div.sk-item::before, #sk-container-id-2 div.sk-parallel-item::before {content: \"\";position: absolute;border-left: 1px solid gray;box-sizing: border-box;top: 0;bottom: 0;left: 50%;z-index: -1;}#sk-container-id-2 div.sk-parallel-item {display: flex;flex-direction: column;z-index: 1;position: relative;background-color: white;}#sk-container-id-2 div.sk-parallel-item:first-child::after {align-self: flex-end;width: 50%;}#sk-container-id-2 div.sk-parallel-item:last-child::after {align-self: flex-start;width: 50%;}#sk-container-id-2 div.sk-parallel-item:only-child::after {width: 0;}#sk-container-id-2 div.sk-dashed-wrapped {border: 1px dashed gray;margin: 0 0.4em 0.5em 0.4em;box-sizing: border-box;padding-bottom: 0.4em;background-color: white;}#sk-container-id-2 div.sk-label label {font-family: monospace;font-weight: bold;display: inline-block;line-height: 1.2em;}#sk-container-id-2 div.sk-label-container {text-align: center;}#sk-container-id-2 div.sk-container {/* jupyter's `normalize.less` sets `[hidden] { display: none; }` but bootstrap.min.css set `[hidden] { display: none !important; }` so we also need the `!important` here to be able to override the default hidden behavior on the sphinx rendered scikit-learn.org. See: https://github.com/scikit-learn/scikit-learn/issues/21755 */display: inline-block !important;position: relative;}#sk-container-id-2 div.sk-text-repr-fallback {display: none;}</style><div id=\"sk-container-id-2\" class=\"sk-top-container\"><div class=\"sk-text-repr-fallback\"><pre>RandomizedSearchCV(cv=5,\n",
       "                   estimator=Pipeline(steps=[(&#x27;preprocessor&#x27;,\n",
       "                                              ColumnTransformer(remainder=&#x27;passthrough&#x27;,\n",
       "                                                                transformers=[(&#x27;ohe&#x27;,\n",
       "                                                                               Pipeline(steps=[(&#x27;simpleImputer_ohe&#x27;,\n",
       "                                                                                                SimpleImputer(strategy=&#x27;most_frequent&#x27;)),\n",
       "                                                                                               (&#x27;ohe&#x27;,\n",
       "                                                                                                OneHotEncoder(drop=&#x27;first&#x27;,\n",
       "                                                                                                              handle_unknown=&#x27;ignore&#x27;,\n",
       "                                                                                                              sparse_output=False))]),\n",
       "                                                                               [&#x27;популярная_категория&#x27;]),\n",
       "                                                                              (&#x27;ord&#x27;,\n",
       "                                                                               Pipeline(steps=[(&#x27;simpleImpu...\n",
       "                                                               &#x27;passthrough&#x27;]},\n",
       "                                        {&#x27;models&#x27;: [LogisticRegression(C=4,\n",
       "                                                                       random_state=42,\n",
       "                                                                       solver=&#x27;liblinear&#x27;)],\n",
       "                                         &#x27;models__C&#x27;: range(1, 5),\n",
       "                                         &#x27;preprocessor__num&#x27;: [StandardScaler(),\n",
       "                                                               MinMaxScaler(),\n",
       "                                                               &#x27;passthrough&#x27;]},\n",
       "                                        {&#x27;models&#x27;: [SVC(probability=True,\n",
       "                                                        random_state=42)],\n",
       "                                         &#x27;models__C&#x27;: range(1, 5),\n",
       "                                         &#x27;preprocessor__num&#x27;: [StandardScaler(),\n",
       "                                                               MinMaxScaler(),\n",
       "                                                               &#x27;passthrough&#x27;]}],\n",
       "                   random_state=42, scoring=&#x27;roc_auc&#x27;)</pre><b>In a Jupyter environment, please rerun this cell to show the HTML representation or trust the notebook. <br />On GitHub, the HTML representation is unable to render, please try loading this page with nbviewer.org.</b></div><div class=\"sk-container\" hidden><div class=\"sk-item sk-dashed-wrapped\"><div class=\"sk-label-container\"><div class=\"sk-label sk-toggleable\"><input class=\"sk-toggleable__control sk-hidden--visually\" id=\"sk-estimator-id-16\" type=\"checkbox\" ><label for=\"sk-estimator-id-16\" class=\"sk-toggleable__label sk-toggleable__label-arrow\">RandomizedSearchCV</label><div class=\"sk-toggleable__content\"><pre>RandomizedSearchCV(cv=5,\n",
       "                   estimator=Pipeline(steps=[(&#x27;preprocessor&#x27;,\n",
       "                                              ColumnTransformer(remainder=&#x27;passthrough&#x27;,\n",
       "                                                                transformers=[(&#x27;ohe&#x27;,\n",
       "                                                                               Pipeline(steps=[(&#x27;simpleImputer_ohe&#x27;,\n",
       "                                                                                                SimpleImputer(strategy=&#x27;most_frequent&#x27;)),\n",
       "                                                                                               (&#x27;ohe&#x27;,\n",
       "                                                                                                OneHotEncoder(drop=&#x27;first&#x27;,\n",
       "                                                                                                              handle_unknown=&#x27;ignore&#x27;,\n",
       "                                                                                                              sparse_output=False))]),\n",
       "                                                                               [&#x27;популярная_категория&#x27;]),\n",
       "                                                                              (&#x27;ord&#x27;,\n",
       "                                                                               Pipeline(steps=[(&#x27;simpleImpu...\n",
       "                                                               &#x27;passthrough&#x27;]},\n",
       "                                        {&#x27;models&#x27;: [LogisticRegression(C=4,\n",
       "                                                                       random_state=42,\n",
       "                                                                       solver=&#x27;liblinear&#x27;)],\n",
       "                                         &#x27;models__C&#x27;: range(1, 5),\n",
       "                                         &#x27;preprocessor__num&#x27;: [StandardScaler(),\n",
       "                                                               MinMaxScaler(),\n",
       "                                                               &#x27;passthrough&#x27;]},\n",
       "                                        {&#x27;models&#x27;: [SVC(probability=True,\n",
       "                                                        random_state=42)],\n",
       "                                         &#x27;models__C&#x27;: range(1, 5),\n",
       "                                         &#x27;preprocessor__num&#x27;: [StandardScaler(),\n",
       "                                                               MinMaxScaler(),\n",
       "                                                               &#x27;passthrough&#x27;]}],\n",
       "                   random_state=42, scoring=&#x27;roc_auc&#x27;)</pre></div></div></div><div class=\"sk-parallel\"><div class=\"sk-parallel-item\"><div class=\"sk-item\"><div class=\"sk-label-container\"><div class=\"sk-label sk-toggleable\"><input class=\"sk-toggleable__control sk-hidden--visually\" id=\"sk-estimator-id-17\" type=\"checkbox\" ><label for=\"sk-estimator-id-17\" class=\"sk-toggleable__label sk-toggleable__label-arrow\">estimator: Pipeline</label><div class=\"sk-toggleable__content\"><pre>Pipeline(steps=[(&#x27;preprocessor&#x27;,\n",
       "                 ColumnTransformer(remainder=&#x27;passthrough&#x27;,\n",
       "                                   transformers=[(&#x27;ohe&#x27;,\n",
       "                                                  Pipeline(steps=[(&#x27;simpleImputer_ohe&#x27;,\n",
       "                                                                   SimpleImputer(strategy=&#x27;most_frequent&#x27;)),\n",
       "                                                                  (&#x27;ohe&#x27;,\n",
       "                                                                   OneHotEncoder(drop=&#x27;first&#x27;,\n",
       "                                                                                 handle_unknown=&#x27;ignore&#x27;,\n",
       "                                                                                 sparse_output=False))]),\n",
       "                                                  [&#x27;популярная_категория&#x27;]),\n",
       "                                                 (&#x27;ord&#x27;,\n",
       "                                                  Pipeline(steps=[(&#x27;simpleImputer_before_ord&#x27;,\n",
       "                                                                   SimpleImputer(stra...\n",
       "                                                  [&#x27;маркет_актив_6_мес&#x27;,\n",
       "                                                   &#x27;маркет_актив_тек_мес&#x27;,\n",
       "                                                   &#x27;длительность&#x27;,\n",
       "                                                   &#x27;акционные_покупки&#x27;,\n",
       "                                                   &#x27;средний_просмотр_категорий_за_визит&#x27;,\n",
       "                                                   &#x27;неоплаченные_продукты_штук_квартал&#x27;,\n",
       "                                                   &#x27;ошибка_сервиса&#x27;,\n",
       "                                                   &#x27;страниц_за_визит&#x27;,\n",
       "                                                   &#x27;выручка_предыдущий_месяц&#x27;,\n",
       "                                                   &#x27;выручка_предпредыдущий_месяц&#x27;,\n",
       "                                                   &#x27;минут_предыдущий_месяц&#x27;,\n",
       "                                                   &#x27;минут_текущий_месяц&#x27;])])),\n",
       "                (&#x27;models&#x27;, DecisionTreeClassifier(random_state=42))])</pre></div></div></div><div class=\"sk-serial\"><div class=\"sk-item\"><div class=\"sk-serial\"><div class=\"sk-item sk-dashed-wrapped\"><div class=\"sk-label-container\"><div class=\"sk-label sk-toggleable\"><input class=\"sk-toggleable__control sk-hidden--visually\" id=\"sk-estimator-id-18\" type=\"checkbox\" ><label for=\"sk-estimator-id-18\" class=\"sk-toggleable__label sk-toggleable__label-arrow\">preprocessor: ColumnTransformer</label><div class=\"sk-toggleable__content\"><pre>ColumnTransformer(remainder=&#x27;passthrough&#x27;,\n",
       "                  transformers=[(&#x27;ohe&#x27;,\n",
       "                                 Pipeline(steps=[(&#x27;simpleImputer_ohe&#x27;,\n",
       "                                                  SimpleImputer(strategy=&#x27;most_frequent&#x27;)),\n",
       "                                                 (&#x27;ohe&#x27;,\n",
       "                                                  OneHotEncoder(drop=&#x27;first&#x27;,\n",
       "                                                                handle_unknown=&#x27;ignore&#x27;,\n",
       "                                                                sparse_output=False))]),\n",
       "                                 [&#x27;популярная_категория&#x27;]),\n",
       "                                (&#x27;ord&#x27;,\n",
       "                                 Pipeline(steps=[(&#x27;simpleImputer_before_ord&#x27;,\n",
       "                                                  SimpleImputer(strategy=&#x27;most_frequent&#x27;)),\n",
       "                                                 (&#x27;ord&#x27;,\n",
       "                                                  Or...\n",
       "                                 [&#x27;тип_сервиса&#x27;, &#x27;разрешить_сообщать&#x27;]),\n",
       "                                (&#x27;num&#x27;, StandardScaler(),\n",
       "                                 [&#x27;маркет_актив_6_мес&#x27;, &#x27;маркет_актив_тек_мес&#x27;,\n",
       "                                  &#x27;длительность&#x27;, &#x27;акционные_покупки&#x27;,\n",
       "                                  &#x27;средний_просмотр_категорий_за_визит&#x27;,\n",
       "                                  &#x27;неоплаченные_продукты_штук_квартал&#x27;,\n",
       "                                  &#x27;ошибка_сервиса&#x27;, &#x27;страниц_за_визит&#x27;,\n",
       "                                  &#x27;выручка_предыдущий_месяц&#x27;,\n",
       "                                  &#x27;выручка_предпредыдущий_месяц&#x27;,\n",
       "                                  &#x27;минут_предыдущий_месяц&#x27;,\n",
       "                                  &#x27;минут_текущий_месяц&#x27;])])</pre></div></div></div><div class=\"sk-parallel\"><div class=\"sk-parallel-item\"><div class=\"sk-item\"><div class=\"sk-label-container\"><div class=\"sk-label sk-toggleable\"><input class=\"sk-toggleable__control sk-hidden--visually\" id=\"sk-estimator-id-19\" type=\"checkbox\" ><label for=\"sk-estimator-id-19\" class=\"sk-toggleable__label sk-toggleable__label-arrow\">ohe</label><div class=\"sk-toggleable__content\"><pre>[&#x27;популярная_категория&#x27;]</pre></div></div></div><div class=\"sk-serial\"><div class=\"sk-item\"><div class=\"sk-serial\"><div class=\"sk-item\"><div class=\"sk-estimator sk-toggleable\"><input class=\"sk-toggleable__control sk-hidden--visually\" id=\"sk-estimator-id-20\" type=\"checkbox\" ><label for=\"sk-estimator-id-20\" class=\"sk-toggleable__label sk-toggleable__label-arrow\">SimpleImputer</label><div class=\"sk-toggleable__content\"><pre>SimpleImputer(strategy=&#x27;most_frequent&#x27;)</pre></div></div></div><div class=\"sk-item\"><div class=\"sk-estimator sk-toggleable\"><input class=\"sk-toggleable__control sk-hidden--visually\" id=\"sk-estimator-id-21\" type=\"checkbox\" ><label for=\"sk-estimator-id-21\" class=\"sk-toggleable__label sk-toggleable__label-arrow\">OneHotEncoder</label><div class=\"sk-toggleable__content\"><pre>OneHotEncoder(drop=&#x27;first&#x27;, handle_unknown=&#x27;ignore&#x27;, sparse_output=False)</pre></div></div></div></div></div></div></div></div><div class=\"sk-parallel-item\"><div class=\"sk-item\"><div class=\"sk-label-container\"><div class=\"sk-label sk-toggleable\"><input class=\"sk-toggleable__control sk-hidden--visually\" id=\"sk-estimator-id-22\" type=\"checkbox\" ><label for=\"sk-estimator-id-22\" class=\"sk-toggleable__label sk-toggleable__label-arrow\">ord</label><div class=\"sk-toggleable__content\"><pre>[&#x27;тип_сервиса&#x27;, &#x27;разрешить_сообщать&#x27;]</pre></div></div></div><div class=\"sk-serial\"><div class=\"sk-item\"><div class=\"sk-serial\"><div class=\"sk-item\"><div class=\"sk-estimator sk-toggleable\"><input class=\"sk-toggleable__control sk-hidden--visually\" id=\"sk-estimator-id-23\" type=\"checkbox\" ><label for=\"sk-estimator-id-23\" class=\"sk-toggleable__label sk-toggleable__label-arrow\">SimpleImputer</label><div class=\"sk-toggleable__content\"><pre>SimpleImputer(strategy=&#x27;most_frequent&#x27;)</pre></div></div></div><div class=\"sk-item\"><div class=\"sk-estimator sk-toggleable\"><input class=\"sk-toggleable__control sk-hidden--visually\" id=\"sk-estimator-id-24\" type=\"checkbox\" ><label for=\"sk-estimator-id-24\" class=\"sk-toggleable__label sk-toggleable__label-arrow\">OrdinalEncoder</label><div class=\"sk-toggleable__content\"><pre>OrdinalEncoder(categories=[[&#x27;стандарт&#x27;, &#x27;премиум&#x27;], [&#x27;нет&#x27;, &#x27;да&#x27;]],\n",
       "               handle_unknown=&#x27;use_encoded_value&#x27;, unknown_value=nan)</pre></div></div></div><div class=\"sk-item\"><div class=\"sk-estimator sk-toggleable\"><input class=\"sk-toggleable__control sk-hidden--visually\" id=\"sk-estimator-id-25\" type=\"checkbox\" ><label for=\"sk-estimator-id-25\" class=\"sk-toggleable__label sk-toggleable__label-arrow\">SimpleImputer</label><div class=\"sk-toggleable__content\"><pre>SimpleImputer(strategy=&#x27;most_frequent&#x27;)</pre></div></div></div></div></div></div></div></div><div class=\"sk-parallel-item\"><div class=\"sk-item\"><div class=\"sk-label-container\"><div class=\"sk-label sk-toggleable\"><input class=\"sk-toggleable__control sk-hidden--visually\" id=\"sk-estimator-id-26\" type=\"checkbox\" ><label for=\"sk-estimator-id-26\" class=\"sk-toggleable__label sk-toggleable__label-arrow\">num</label><div class=\"sk-toggleable__content\"><pre>[&#x27;маркет_актив_6_мес&#x27;, &#x27;маркет_актив_тек_мес&#x27;, &#x27;длительность&#x27;, &#x27;акционные_покупки&#x27;, &#x27;средний_просмотр_категорий_за_визит&#x27;, &#x27;неоплаченные_продукты_штук_квартал&#x27;, &#x27;ошибка_сервиса&#x27;, &#x27;страниц_за_визит&#x27;, &#x27;выручка_предыдущий_месяц&#x27;, &#x27;выручка_предпредыдущий_месяц&#x27;, &#x27;минут_предыдущий_месяц&#x27;, &#x27;минут_текущий_месяц&#x27;]</pre></div></div></div><div class=\"sk-serial\"><div class=\"sk-item\"><div class=\"sk-estimator sk-toggleable\"><input class=\"sk-toggleable__control sk-hidden--visually\" id=\"sk-estimator-id-27\" type=\"checkbox\" ><label for=\"sk-estimator-id-27\" class=\"sk-toggleable__label sk-toggleable__label-arrow\">StandardScaler</label><div class=\"sk-toggleable__content\"><pre>StandardScaler()</pre></div></div></div></div></div></div><div class=\"sk-parallel-item\"><div class=\"sk-item\"><div class=\"sk-label-container\"><div class=\"sk-label sk-toggleable\"><input class=\"sk-toggleable__control sk-hidden--visually\" id=\"sk-estimator-id-28\" type=\"checkbox\" ><label for=\"sk-estimator-id-28\" class=\"sk-toggleable__label sk-toggleable__label-arrow\">remainder</label><div class=\"sk-toggleable__content\"><pre></pre></div></div></div><div class=\"sk-serial\"><div class=\"sk-item\"><div class=\"sk-estimator sk-toggleable\"><input class=\"sk-toggleable__control sk-hidden--visually\" id=\"sk-estimator-id-29\" type=\"checkbox\" ><label for=\"sk-estimator-id-29\" class=\"sk-toggleable__label sk-toggleable__label-arrow\">passthrough</label><div class=\"sk-toggleable__content\"><pre>passthrough</pre></div></div></div></div></div></div></div></div><div class=\"sk-item\"><div class=\"sk-estimator sk-toggleable\"><input class=\"sk-toggleable__control sk-hidden--visually\" id=\"sk-estimator-id-30\" type=\"checkbox\" ><label for=\"sk-estimator-id-30\" class=\"sk-toggleable__label sk-toggleable__label-arrow\">DecisionTreeClassifier</label><div class=\"sk-toggleable__content\"><pre>DecisionTreeClassifier(random_state=42)</pre></div></div></div></div></div></div></div></div></div></div></div></div>"
      ],
      "text/plain": [
       "RandomizedSearchCV(cv=5,\n",
       "                   estimator=Pipeline(steps=[('preprocessor',\n",
       "                                              ColumnTransformer(remainder='passthrough',\n",
       "                                                                transformers=[('ohe',\n",
       "                                                                               Pipeline(steps=[('simpleImputer_ohe',\n",
       "                                                                                                SimpleImputer(strategy='most_frequent')),\n",
       "                                                                                               ('ohe',\n",
       "                                                                                                OneHotEncoder(drop='first',\n",
       "                                                                                                              handle_unknown='ignore',\n",
       "                                                                                                              sparse_output=False))]),\n",
       "                                                                               ['популярная_категория']),\n",
       "                                                                              ('ord',\n",
       "                                                                               Pipeline(steps=[('simpleImpu...\n",
       "                                                               'passthrough']},\n",
       "                                        {'models': [LogisticRegression(C=4,\n",
       "                                                                       random_state=42,\n",
       "                                                                       solver='liblinear')],\n",
       "                                         'models__C': range(1, 5),\n",
       "                                         'preprocessor__num': [StandardScaler(),\n",
       "                                                               MinMaxScaler(),\n",
       "                                                               'passthrough']},\n",
       "                                        {'models': [SVC(probability=True,\n",
       "                                                        random_state=42)],\n",
       "                                         'models__C': range(1, 5),\n",
       "                                         'preprocessor__num': [StandardScaler(),\n",
       "                                                               MinMaxScaler(),\n",
       "                                                               'passthrough']}],\n",
       "                   random_state=42, scoring='roc_auc')"
      ]
     },
     "execution_count": 367,
     "metadata": {},
     "output_type": "execute_result"
    }
   ],
   "source": [
    "randomized_search.fit(X_train, y_train)"
   ]
  },
  {
   "cell_type": "code",
   "execution_count": 368,
   "metadata": {},
   "outputs": [
    {
     "name": "stdout",
     "output_type": "stream",
     "text": [
      "Best model and its parameters:\n",
      "\n",
      " Pipeline(steps=[('preprocessor',\n",
      "                 ColumnTransformer(remainder='passthrough',\n",
      "                                   transformers=[('ohe',\n",
      "                                                  Pipeline(steps=[('simpleImputer_ohe',\n",
      "                                                                   SimpleImputer(strategy='most_frequent')),\n",
      "                                                                  ('ohe',\n",
      "                                                                   OneHotEncoder(drop='first',\n",
      "                                                                                 handle_unknown='ignore',\n",
      "                                                                                 sparse_output=False))]),\n",
      "                                                  ['популярная_категория']),\n",
      "                                                 ('ord',\n",
      "                                                  Pipeline(steps=[('simpleImputer_before_ord',\n",
      "                                                                   SimpleImputer(stra...\n",
      "                                                   'маркет_актив_тек_мес',\n",
      "                                                   'длительность',\n",
      "                                                   'акционные_покупки',\n",
      "                                                   'средний_просмотр_категорий_за_визит',\n",
      "                                                   'неоплаченные_продукты_штук_квартал',\n",
      "                                                   'ошибка_сервиса',\n",
      "                                                   'страниц_за_визит',\n",
      "                                                   'выручка_предыдущий_месяц',\n",
      "                                                   'выручка_предпредыдущий_месяц',\n",
      "                                                   'минут_предыдущий_месяц',\n",
      "                                                   'минут_текущий_месяц'])])),\n",
      "                ('models',\n",
      "                 LogisticRegression(C=4, random_state=42, solver='liblinear'))])\n"
     ]
    }
   ],
   "source": [
    "print('Best model and its parameters:\\n\\n', randomized_search.best_estimator_) "
   ]
  },
  {
   "cell_type": "code",
   "execution_count": 369,
   "metadata": {},
   "outputs": [
    {
     "name": "stdout",
     "output_type": "stream",
     "text": [
      "ROC-AUC metric for the best model:\n",
      " 0.8981188965825331\n"
     ]
    }
   ],
   "source": [
    "print('ROC-AUC metric for the best model:\\n', randomized_search.best_score_)"
   ]
  },
  {
   "cell_type": "code",
   "execution_count": 370,
   "metadata": {},
   "outputs": [
    {
     "name": "stdout",
     "output_type": "stream",
     "text": [
      "   rank_test_score                                       param_models  \\\n",
      "4                1  LogisticRegression(C=4, random_state=42, solve...   \n",
      "7                2  LogisticRegression(C=4, random_state=42, solve...   \n",
      "3                3            DecisionTreeClassifier(random_state=42)   \n",
      "0                4            DecisionTreeClassifier(random_state=42)   \n",
      "5                5            DecisionTreeClassifier(random_state=42)   \n",
      "1                6            DecisionTreeClassifier(random_state=42)   \n",
      "9                7            DecisionTreeClassifier(random_state=42)   \n",
      "8                8            DecisionTreeClassifier(random_state=42)   \n",
      "6                9            DecisionTreeClassifier(random_state=42)   \n",
      "2               10            DecisionTreeClassifier(random_state=42)   \n",
      "\n",
      "   mean_test_score                                             params  \n",
      "4         0.898119  {'preprocessor__num': StandardScaler(), 'model...  \n",
      "7         0.897960  {'preprocessor__num': StandardScaler(), 'model...  \n",
      "3         0.833939  {'preprocessor__num': MinMaxScaler(), 'models_...  \n",
      "0         0.833524  {'preprocessor__num': MinMaxScaler(), 'models_...  \n",
      "5         0.832341  {'preprocessor__num': 'passthrough', 'models__...  \n",
      "1         0.829046  {'preprocessor__num': MinMaxScaler(), 'models_...  \n",
      "9         0.821985  {'preprocessor__num': 'passthrough', 'models__...  \n",
      "8         0.805955  {'preprocessor__num': StandardScaler(), 'model...  \n",
      "6         0.803018  {'preprocessor__num': StandardScaler(), 'model...  \n",
      "2         0.799274  {'preprocessor__num': MinMaxScaler(), 'models_...  \n"
     ]
    }
   ],
   "source": [
    "result = pd.DataFrame(randomized_search.cv_results_)\n",
    "print(result[\n",
    "    ['rank_test_score', 'param_models', 'mean_test_score','params']\n",
    "].sort_values('rank_test_score'))\n"
   ]
  },
  {
   "cell_type": "markdown",
   "metadata": {},
   "source": [
    "__Conclusion:__ \n",
    "- As a result of the tests, the best model identified was Logistic Regression.\n",
    "- The metric indicates a strong performance with a score of 0.89."
   ]
  },
  {
   "cell_type": "markdown",
   "metadata": {},
   "source": [
    "Check standard deviation"
   ]
  },
  {
   "cell_type": "code",
   "execution_count": 377,
   "metadata": {},
   "outputs": [
    {
     "name": "stdout",
     "output_type": "stream",
     "text": [
      "0.022156520440985854\n"
     ]
    }
   ],
   "source": [
    "best_index = randomized_search.best_index_\n",
    "std_test_score = randomized_search.cv_results_['std_test_score'][best_index]\n",
    "print(std_test_score)"
   ]
  },
  {
   "cell_type": "markdown",
   "metadata": {},
   "source": [
    "A small standard deviation of 0.2 indicates the model's stability."
   ]
  },
  {
   "cell_type": "code",
   "execution_count": 380,
   "metadata": {},
   "outputs": [
    {
     "name": "stdout",
     "output_type": "stream",
     "text": [
      "ROC AUC Score: 0.92\n"
     ]
    }
   ],
   "source": [
    "# save the best model \n",
    "best_model = randomized_search.best_estimator_\n",
    "#predict on test data\n",
    "y_test_proba = best_model.predict_proba(X_test)[:, 1]\n",
    "\n",
    "#metric\n",
    "roc_auc = roc_auc_score(y_test, y_test_proba)\n",
    "print(f'ROC AUC Score: {roc_auc:.2f}')"
   ]
  },
  {
   "cell_type": "markdown",
   "metadata": {},
   "source": [
    "This metric also exceeds that of the Dummy model, indicating that the model tuning was successful."
   ]
  },
  {
   "cell_type": "markdown",
   "metadata": {},
   "source": [
    "Let's check the class distribution using the **confusion matrix**."
   ]
  },
  {
   "cell_type": "code",
   "execution_count": 384,
   "metadata": {},
   "outputs": [
    {
     "name": "stdout",
     "output_type": "stream",
     "text": [
      "Confusion Matrix:\n",
      "                 Прежний уровень  Снизилась\n",
      "Прежний уровень              189         12\n",
      "Снизилась                     21        103\n"
     ]
    }
   ],
   "source": [
    "y_test_pred = best_model.predict(X_test)\n",
    "\n",
    "# create confusion matrix \n",
    "cm = confusion_matrix(y_test, y_test_pred)\n",
    "\n",
    "# convert  to DataFrame \n",
    "cm_df = pd.DataFrame(cm, index=np.unique(y_test), columns=np.unique(y_test))\n",
    "\n",
    "print(\"Confusion Matrix:\")\n",
    "print(cm_df)"
   ]
  },
  {
   "cell_type": "markdown",
   "metadata": {},
   "source": [
    "The confusion matrix allows us to see how the best model distributes objects across classes:\n",
    "- 189 times, the model correctly predicted that the level of purchasing activity would remain the same.\n",
    "- 103 times, it correctly predicted that the level of purchasing activity would decrease.\n",
    "- 12 times, the model predicted that the level would remain the same, but it actually decreased (Type I error).\n",
    "- 21 times, it predicted that the level would decrease, but it remained the same (Type II error).\n",
    "\n",
    "This analysis shows that the model performs well in classification."
   ]
  },
  {
   "cell_type": "markdown",
   "metadata": {},
   "source": [
    "## Feature importance analysis"
   ]
  },
  {
   "cell_type": "markdown",
   "metadata": {},
   "source": [
    "Let's evaluate feature importance for the best model and create a feature importance plot using the SHAP method."
   ]
  },
  {
   "cell_type": "code",
   "execution_count": 389,
   "metadata": {},
   "outputs": [
    {
     "name": "stdout",
     "output_type": "stream",
     "text": [
      "{'preprocessor': ColumnTransformer(remainder='passthrough',\n",
      "                  transformers=[('ohe',\n",
      "                                 Pipeline(steps=[('simpleImputer_ohe',\n",
      "                                                  SimpleImputer(strategy='most_frequent')),\n",
      "                                                 ('ohe',\n",
      "                                                  OneHotEncoder(drop='first',\n",
      "                                                                handle_unknown='ignore',\n",
      "                                                                sparse_output=False))]),\n",
      "                                 ['популярная_категория']),\n",
      "                                ('ord',\n",
      "                                 Pipeline(steps=[('simpleImputer_before_ord',\n",
      "                                                  SimpleImputer(strategy='most_frequent')),\n",
      "                                                 ('ord',\n",
      "                                                  Or...\n",
      "                                 ['тип_сервиса', 'разрешить_сообщать']),\n",
      "                                ('num', StandardScaler(),\n",
      "                                 ['маркет_актив_6_мес', 'маркет_актив_тек_мес',\n",
      "                                  'длительность', 'акционные_покупки',\n",
      "                                  'средний_просмотр_категорий_за_визит',\n",
      "                                  'неоплаченные_продукты_штук_квартал',\n",
      "                                  'ошибка_сервиса', 'страниц_за_визит',\n",
      "                                  'выручка_предыдущий_месяц',\n",
      "                                  'выручка_предпредыдущий_месяц',\n",
      "                                  'минут_предыдущий_месяц',\n",
      "                                  'минут_текущий_месяц'])]), 'models': LogisticRegression(C=4, random_state=42, solver='liblinear')}\n"
     ]
    }
   ],
   "source": [
    "print(randomized_search.best_estimator_.named_steps)"
   ]
  },
  {
   "cell_type": "code",
   "execution_count": 391,
   "metadata": {},
   "outputs": [
    {
     "data": {
      "image/png": "[encoded data removed]",
      "text/plain": [
       "<Figure size 800x830 with 1 Axes>"
      ]
     },
     "metadata": {},
     "output_type": "display_data"
    }
   ],
   "source": [
    "# save the steps in to the variables \n",
    "model = randomized_search.best_estimator_.named_steps['models']\n",
    "preprocessor = randomized_search.best_estimator_.named_steps['preprocessor']\n",
    "\n",
    "# обработаем тренировочный и тестовый сет используя пайплайн \n",
    "X_train_preprocessed = preprocessor.transform(X_train)\n",
    "X_test_preprocessed = preprocessor.transform(X_test)\n",
    "\n",
    "# initiate SHAP for logistic regression \n",
    "explainer = shap.LinearExplainer(model, X_train_preprocessed)\n",
    "shap_values = explainer.shap_values(X_test_preprocessed)\n",
    "\n",
    "# create SHAP visalozation for feature importance \n",
    "fig, ax = plt.subplots(figsize=(10, 6))\n",
    "shap.summary_plot(shap_values, X_test_preprocessed, \n",
    "                  feature_names=preprocessor.get_feature_names_out(), \n",
    "                  plot_type=\"bar\", max_display=17, show=False)\n",
    "ax.set_title(\"SHAP график\")\n",
    "ax.set_xlabel(\"Важность признаков\")\n",
    "ax.set_ylabel(\"Признаки\")\n",
    "plt.show()"
   ]
  },
  {
   "cell_type": "code",
   "execution_count": 393,
   "metadata": {},
   "outputs": [
    {
     "data": {
      "image/png": "[encoded data removed]",
      "text/plain": [
       "<Figure size 800x790 with 2 Axes>"
      ]
     },
     "metadata": {},
     "output_type": "display_data"
    }
   ],
   "source": [
    "explanation_object = shap.Explanation(values=shap_values, \n",
    "                                      base_values=explainer.expected_value, \n",
    "                                      data=X_test_preprocessed, \n",
    "                                      feature_names=preprocessor.get_feature_names_out())\n",
    "\n",
    "# создаем SHAP beeswarm график\n",
    "fig, ax = plt.subplots(figsize=(10, 6))\n",
    "shap.plots.beeswarm(explanation_object, max_display=16, show=False)\n",
    "ax.set_title(\"SHAP Beeswarm visualization\")\n",
    "ax.set_xlabel(\"SHAP input on model results\")\n",
    "ax.set_ylabel(\"Features\")\n",
    "plt.show()\n"
   ]
  },
  {
   "cell_type": "markdown",
   "metadata": {},
   "source": [
    "__Conclusion:__\n",
    "\n",
    "*The most important features* are:\n",
    "- Average category views per visit (product behavior)\n",
    "- Number of pages visited per visit (website behavior)\n",
    "- Minutes spent on the site in the previous month (website behavior)\n",
    "- Number of unpaid products (product behavior)\n",
    "- Promotional purchases (product behavior)\n",
    "\n",
    "*Less significant features* include:\n",
    "- Popular category (product behavior)\n",
    "- Service type (customer communication)\n",
    "- Service error\n",
    "- Revenue from the previous month (financial behavior)\n",
    "- Duration (time since customer registration on the site) (customer communication)\n",
    "\n",
    "__SHAP Beeswarm Analysis:__\n",
    "- Purchase activity is the target feature.\n",
    "- Class 1 - 'Decreased,' Class 0 - 'Remained the same.'\n",
    "- Analyzing the SHAP beeswarm plot, we can observe that the most influential features (average category views per visit, number of pages visited per visit, minutes spent on the site in the previous month) tend to lead the model to classify objects as class 0, meaning that the purchase activity remained the same.\n",
    "\n",
    "__Model Improvement:__\n",
    "\n",
    "- Less significant features can be excluded from the model, for example, using the *filtering* method.\n",
    "- Logistic regression captures only linear dependencies, so it can be improved by adding *polynomial features* through polynomial expansion to the feature description.\n",
    "- Apply *regularization* to reduce the risk of model overfitting.\n",
    "\n",
    "__Business Decisions:__\n",
    "- Website behavior contributes the most to the model's prediction, indicating that these factors greatly influence purchase activity. A possible recommendation here would be to create promotional banners on the website, improve navigation, or enhance the user interface.\n",
    "- Product behavior is also important. It is evident that certain categories are frequently viewed by customers, so focusing on these through discounts could be beneficial. Additionally, attention should be given to unpaid products. It may be worth offering discounts on these items."
   ]
  },
  {
   "cell_type": "markdown",
   "metadata": {},
   "source": [
    "## Customers Segmentation"
   ]
  },
  {
   "cell_type": "markdown",
   "metadata": {},
   "source": [
    "### Segmentation"
   ]
  },
  {
   "cell_type": "code",
   "execution_count": 398,
   "metadata": {},
   "outputs": [],
   "source": [
    "model_res = pd.DataFrame({\n",
    "    'id': X_test.index,\n",
    "    'покупательская_активность': y_test_pred\n",
    "})"
   ]
  },
  {
   "cell_type": "code",
   "execution_count": 400,
   "metadata": {},
   "outputs": [],
   "source": [
    "model_res = model_res.reset_index(drop=True)"
   ]
  },
  {
   "cell_type": "code",
   "execution_count": 402,
   "metadata": {},
   "outputs": [],
   "source": [
    "merged_df = model_res.merge(df_money, on='id')"
   ]
  },
  {
   "cell_type": "code",
   "execution_count": 404,
   "metadata": {},
   "outputs": [
    {
     "data": {
      "text/html": [
       "<div>\n",
       "<style scoped>\n",
       "    .dataframe tbody tr th:only-of-type {\n",
       "        vertical-align: middle;\n",
       "    }\n",
       "\n",
       "    .dataframe tbody tr th {\n",
       "        vertical-align: top;\n",
       "    }\n",
       "\n",
       "    .dataframe thead th {\n",
       "        text-align: right;\n",
       "    }\n",
       "</style>\n",
       "<table border=\"1\" class=\"dataframe\">\n",
       "  <thead>\n",
       "    <tr style=\"text-align: right;\">\n",
       "      <th></th>\n",
       "      <th>id</th>\n",
       "      <th>покупательская_активность</th>\n",
       "      <th>прибыль</th>\n",
       "    </tr>\n",
       "  </thead>\n",
       "  <tbody>\n",
       "    <tr>\n",
       "      <th>0</th>\n",
       "      <td>216446</td>\n",
       "      <td>Прежний уровень</td>\n",
       "      <td>4.47</td>\n",
       "    </tr>\n",
       "    <tr>\n",
       "      <th>1</th>\n",
       "      <td>215469</td>\n",
       "      <td>Снизилась</td>\n",
       "      <td>3.76</td>\n",
       "    </tr>\n",
       "  </tbody>\n",
       "</table>\n",
       "</div>"
      ],
      "text/plain": [
       "       id покупательская_активность  прибыль\n",
       "0  216446           Прежний уровень     4.47\n",
       "1  215469                 Снизилась     3.76"
      ]
     },
     "execution_count": 404,
     "metadata": {},
     "output_type": "execute_result"
    }
   ],
   "source": [
    "merged_df.head(2)"
   ]
  },
  {
   "cell_type": "markdown",
   "metadata": {},
   "source": [
    "Customer segmentation is essential for understanding customer purchasing behavior and for developing personalized marketing strategies. We can segment customers using the following method:\n",
    "\n",
    "1) **Profitability** (how much the customer has spent): For this, we use data from the dataset `df_money`.\n",
    "2) **Model predictions**: We utilize the model's predictions, where 0 indicates that the customer's purchasing power has remained the same, and 1 indicates that it will decrease."
   ]
  },
  {
   "cell_type": "code",
   "execution_count": 407,
   "metadata": {},
   "outputs": [
    {
     "data": {
      "text/html": [
       "<div>\n",
       "<style scoped>\n",
       "    .dataframe tbody tr th:only-of-type {\n",
       "        vertical-align: middle;\n",
       "    }\n",
       "\n",
       "    .dataframe tbody tr th {\n",
       "        vertical-align: top;\n",
       "    }\n",
       "\n",
       "    .dataframe thead th {\n",
       "        text-align: right;\n",
       "    }\n",
       "</style>\n",
       "<table border=\"1\" class=\"dataframe\">\n",
       "  <thead>\n",
       "    <tr style=\"text-align: right;\">\n",
       "      <th></th>\n",
       "      <th>cегмент</th>\n",
       "      <th>кол-во_клиентов</th>\n",
       "      <th>средняя_прибыль</th>\n",
       "      <th>общая_прибыль</th>\n",
       "    </tr>\n",
       "  </thead>\n",
       "  <tbody>\n",
       "    <tr>\n",
       "      <th>0</th>\n",
       "      <td>высокая_прибыль_прежняя_активность</td>\n",
       "      <td>104</td>\n",
       "      <td>4.775769</td>\n",
       "      <td>496.68</td>\n",
       "    </tr>\n",
       "    <tr>\n",
       "      <th>1</th>\n",
       "      <td>высокая_прибыль_снизилась_активность</td>\n",
       "      <td>59</td>\n",
       "      <td>4.723051</td>\n",
       "      <td>278.66</td>\n",
       "    </tr>\n",
       "    <tr>\n",
       "      <th>2</th>\n",
       "      <td>низкая_прибыль_прежняя_активность</td>\n",
       "      <td>106</td>\n",
       "      <td>3.130377</td>\n",
       "      <td>331.82</td>\n",
       "    </tr>\n",
       "    <tr>\n",
       "      <th>3</th>\n",
       "      <td>низкая_прибыль_снизилась_активность</td>\n",
       "      <td>56</td>\n",
       "      <td>3.186964</td>\n",
       "      <td>178.47</td>\n",
       "    </tr>\n",
       "  </tbody>\n",
       "</table>\n",
       "</div>"
      ],
      "text/plain": [
       "                                cегмент  кол-во_клиентов  средняя_прибыль  \\\n",
       "0    высокая_прибыль_прежняя_активность              104         4.775769   \n",
       "1  высокая_прибыль_снизилась_активность               59         4.723051   \n",
       "2     низкая_прибыль_прежняя_активность              106         3.130377   \n",
       "3   низкая_прибыль_снизилась_активность               56         3.186964   \n",
       "\n",
       "   общая_прибыль  \n",
       "0         496.68  \n",
       "1         278.66  \n",
       "2         331.82  \n",
       "3         178.47  "
      ]
     },
     "execution_count": 407,
     "metadata": {},
     "output_type": "execute_result"
    }
   ],
   "source": [
    "#create new column Segment \n",
    "merged_df['cегмент'] = 'None'\n",
    "# calculate average revenue to group customers\n",
    "median_revenue = merged_df['прибыль'].median()\n",
    "\n",
    "merged_df.loc[(merged_df['покупательская_активность'] == 'Прежний уровень') & (merged_df['прибыль'] >= median_revenue), 'cегмент'] = 'высокая_прибыль_прежняя_активность'\n",
    "merged_df.loc[(merged_df['покупательская_активность'] == 'Прежний уровень') & (merged_df['прибыль'] < median_revenue), 'cегмент'] = 'низкая_прибыль_прежняя_активность'\n",
    "merged_df.loc[(merged_df['покупательская_активность'] == 'Снизилась') & (merged_df['прибыль'] >= median_revenue), 'cегмент'] = 'высокая_прибыль_снизилась_активность'\n",
    "merged_df.loc[(merged_df['покупательская_активность'] == 'Снизилась') & (merged_df['прибыль'] < median_revenue), 'cегмент'] = 'низкая_прибыль_снизилась_активность'\n",
    "\n",
    "# Анализ сегментов\n",
    "segment_analysis = merged_df.groupby('cегмент')['прибыль'].agg(['count', 'mean', 'sum']).reset_index()\n",
    "segment_analysis.columns = ['cегмент', 'кол-во_клиентов', 'средняя_прибыль', 'общая_прибыль']\n",
    "segment_analysis"
   ]
  },
  {
   "cell_type": "markdown",
   "metadata": {},
   "source": [
    "### Segment analysis"
   ]
  },
  {
   "cell_type": "markdown",
   "metadata": {},
   "source": [
    "For the analysis, the segment chosen was *high profitability with decreasing activity*. Since we are predicting a potential decrease in activity, this could lead to a reduction in profitability, which is critical for the business."
   ]
  },
  {
   "cell_type": "code",
   "execution_count": 411,
   "metadata": {},
   "outputs": [],
   "source": [
    "result_df = df_final.merge(merged_df, on='id', how='inner')"
   ]
  },
  {
   "cell_type": "code",
   "execution_count": 413,
   "metadata": {},
   "outputs": [],
   "source": [
    "# The target segment is *high_profitability_with_decreased_activity*.\n",
    "goal_seg = result_df[result_df['cегмент'] == 'высокая_прибыль_снизилась_активность']\n",
    "# best segment for evaluation\n",
    "best_seg = result_df[result_df['cегмент'] == 'высокая_прибыль_прежняя_активность']"
   ]
  },
  {
   "cell_type": "markdown",
   "metadata": {},
   "source": [
    "Let's consider the feature **Unpaid Products**."
   ]
  },
  {
   "cell_type": "code",
   "execution_count": 416,
   "metadata": {},
   "outputs": [
    {
     "name": "stdout",
     "output_type": "stream",
     "text": [
      "count    59.000000\n",
      "mean      3.932203\n",
      "std       2.164481\n",
      "min       0.000000\n",
      "25%       2.000000\n",
      "50%       4.000000\n",
      "75%       5.000000\n",
      "max       9.000000\n",
      "Name: неоплаченные_продукты_штук_квартал, dtype: float64\n",
      "count    104.000000\n",
      "mean       2.288462\n",
      "std        1.505157\n",
      "min        0.000000\n",
      "25%        1.000000\n",
      "50%        2.000000\n",
      "75%        3.250000\n",
      "max        5.000000\n",
      "Name: неоплаченные_продукты_штук_квартал, dtype: float64\n"
     ]
    }
   ],
   "source": [
    "statistics_goal = goal_seg['неоплаченные_продукты_штук_квартал'].describe()\n",
    "print(statistics_goal)\n",
    "statistics_best = best_seg['неоплаченные_продукты_штук_квартал'].describe()\n",
    "print(statistics_best)"
   ]
  },
  {
   "cell_type": "markdown",
   "metadata": {},
   "source": [
    "Let's consider the feature **Marketing Activity in the Last 6 Months**."
   ]
  },
  {
   "cell_type": "code",
   "execution_count": 419,
   "metadata": {},
   "outputs": [
    {
     "name": "stdout",
     "output_type": "stream",
     "text": [
      "count    59.000000\n",
      "mean      3.620339\n",
      "std       0.991130\n",
      "min       0.900000\n",
      "25%       3.150000\n",
      "50%       3.900000\n",
      "75%       4.100000\n",
      "max       5.600000\n",
      "Name: маркет_актив_6_мес, dtype: float64\n",
      "count    104.000000\n",
      "mean       4.600000\n",
      "std        0.690153\n",
      "min        3.000000\n",
      "25%        4.100000\n",
      "50%        4.400000\n",
      "75%        5.200000\n",
      "max        6.300000\n",
      "Name: маркет_актив_6_мес, dtype: float64\n"
     ]
    }
   ],
   "source": [
    "statistics_goal = goal_seg['маркет_актив_6_мес'].describe()\n",
    "print(statistics_goal)\n",
    "statistics_best = best_seg['маркет_актив_6_мес'].describe()\n",
    "print(statistics_best)"
   ]
  },
  {
   "cell_type": "code",
   "execution_count": 421,
   "metadata": {},
   "outputs": [
    {
     "data": {
      "text/html": [
       "<div>\n",
       "<style scoped>\n",
       "    .dataframe tbody tr th:only-of-type {\n",
       "        vertical-align: middle;\n",
       "    }\n",
       "\n",
       "    .dataframe tbody tr th {\n",
       "        vertical-align: top;\n",
       "    }\n",
       "\n",
       "    .dataframe thead th {\n",
       "        text-align: right;\n",
       "    }\n",
       "</style>\n",
       "<table border=\"1\" class=\"dataframe\">\n",
       "  <thead>\n",
       "    <tr style=\"text-align: right;\">\n",
       "      <th></th>\n",
       "      <th>id</th>\n",
       "      <th>покупательская_активность_x</th>\n",
       "      <th>тип_сервиса</th>\n",
       "      <th>разрешить_сообщать</th>\n",
       "      <th>маркет_актив_6_мес</th>\n",
       "      <th>маркет_актив_тек_мес</th>\n",
       "      <th>длительность</th>\n",
       "      <th>акционные_покупки</th>\n",
       "      <th>популярная_категория</th>\n",
       "      <th>средний_просмотр_категорий_за_визит</th>\n",
       "      <th>...</th>\n",
       "      <th>ошибка_сервиса</th>\n",
       "      <th>страниц_за_визит</th>\n",
       "      <th>выручка_предыдущий_месяц</th>\n",
       "      <th>выручка_предпредыдущий_месяц</th>\n",
       "      <th>выручка_текущий_месяц</th>\n",
       "      <th>минут_предыдущий_месяц</th>\n",
       "      <th>минут_текущий_месяц</th>\n",
       "      <th>покупательская_активность_y</th>\n",
       "      <th>прибыль</th>\n",
       "      <th>cегмент</th>\n",
       "    </tr>\n",
       "  </thead>\n",
       "  <tbody>\n",
       "    <tr>\n",
       "      <th>0</th>\n",
       "      <td>215349</td>\n",
       "      <td>Снизилась</td>\n",
       "      <td>премиум</td>\n",
       "      <td>да</td>\n",
       "      <td>4.4</td>\n",
       "      <td>4</td>\n",
       "      <td>819</td>\n",
       "      <td>0.75</td>\n",
       "      <td>Товары для детей</td>\n",
       "      <td>4</td>\n",
       "      <td>...</td>\n",
       "      <td>2</td>\n",
       "      <td>5</td>\n",
       "      <td>5216.0</td>\n",
       "      <td>4472.0</td>\n",
       "      <td>4971.6</td>\n",
       "      <td>12</td>\n",
       "      <td>10</td>\n",
       "      <td>Снизилась</td>\n",
       "      <td>4.16</td>\n",
       "      <td>высокая_прибыль_снизилась_активность</td>\n",
       "    </tr>\n",
       "    <tr>\n",
       "      <th>1</th>\n",
       "      <td>215351</td>\n",
       "      <td>Снизилась</td>\n",
       "      <td>стандарт</td>\n",
       "      <td>да</td>\n",
       "      <td>3.2</td>\n",
       "      <td>5</td>\n",
       "      <td>896</td>\n",
       "      <td>0.99</td>\n",
       "      <td>Товары для детей</td>\n",
       "      <td>5</td>\n",
       "      <td>...</td>\n",
       "      <td>6</td>\n",
       "      <td>4</td>\n",
       "      <td>6158.0</td>\n",
       "      <td>4793.0</td>\n",
       "      <td>6610.4</td>\n",
       "      <td>11</td>\n",
       "      <td>13</td>\n",
       "      <td>Снизилась</td>\n",
       "      <td>4.87</td>\n",
       "      <td>высокая_прибыль_снизилась_активность</td>\n",
       "    </tr>\n",
       "    <tr>\n",
       "      <th>5</th>\n",
       "      <td>215356</td>\n",
       "      <td>Снизилась</td>\n",
       "      <td>стандарт</td>\n",
       "      <td>да</td>\n",
       "      <td>4.2</td>\n",
       "      <td>4</td>\n",
       "      <td>192</td>\n",
       "      <td>0.14</td>\n",
       "      <td>Косметика и аксесуары</td>\n",
       "      <td>2</td>\n",
       "      <td>...</td>\n",
       "      <td>1</td>\n",
       "      <td>3</td>\n",
       "      <td>4146.5</td>\n",
       "      <td>4433.0</td>\n",
       "      <td>4566.4</td>\n",
       "      <td>6</td>\n",
       "      <td>7</td>\n",
       "      <td>Снизилась</td>\n",
       "      <td>4.93</td>\n",
       "      <td>высокая_прибыль_снизилась_активность</td>\n",
       "    </tr>\n",
       "  </tbody>\n",
       "</table>\n",
       "<p>3 rows × 21 columns</p>\n",
       "</div>"
      ],
      "text/plain": [
       "       id покупательская_активность_x тип_сервиса разрешить_сообщать  \\\n",
       "0  215349                   Снизилась     премиум                 да   \n",
       "1  215351                   Снизилась    стандарт                 да   \n",
       "5  215356                   Снизилась    стандарт                 да   \n",
       "\n",
       "   маркет_актив_6_мес  маркет_актив_тек_мес  длительность  акционные_покупки  \\\n",
       "0                 4.4                     4           819               0.75   \n",
       "1                 3.2                     5           896               0.99   \n",
       "5                 4.2                     4           192               0.14   \n",
       "\n",
       "    популярная_категория  средний_просмотр_категорий_за_визит  ...  \\\n",
       "0       Товары для детей                                    4  ...   \n",
       "1       Товары для детей                                    5  ...   \n",
       "5  Косметика и аксесуары                                    2  ...   \n",
       "\n",
       "   ошибка_сервиса  страниц_за_визит  выручка_предыдущий_месяц  \\\n",
       "0               2                 5                    5216.0   \n",
       "1               6                 4                    6158.0   \n",
       "5               1                 3                    4146.5   \n",
       "\n",
       "   выручка_предпредыдущий_месяц  выручка_текущий_месяц  \\\n",
       "0                        4472.0                 4971.6   \n",
       "1                        4793.0                 6610.4   \n",
       "5                        4433.0                 4566.4   \n",
       "\n",
       "   минут_предыдущий_месяц  минут_текущий_месяц  покупательская_активность_y  \\\n",
       "0                      12                   10                    Снизилась   \n",
       "1                      11                   13                    Снизилась   \n",
       "5                       6                    7                    Снизилась   \n",
       "\n",
       "  прибыль                               cегмент  \n",
       "0    4.16  высокая_прибыль_снизилась_активность  \n",
       "1    4.87  высокая_прибыль_снизилась_активность  \n",
       "5    4.93  высокая_прибыль_снизилась_активность  \n",
       "\n",
       "[3 rows x 21 columns]"
      ]
     },
     "execution_count": 421,
     "metadata": {},
     "output_type": "execute_result"
    }
   ],
   "source": [
    "goal_seg.head(3)"
   ]
  },
  {
   "cell_type": "markdown",
   "metadata": {},
   "source": [
    "Let's consider the feature **Promotional Purchases**."
   ]
  },
  {
   "cell_type": "code",
   "execution_count": 424,
   "metadata": {},
   "outputs": [
    {
     "name": "stdout",
     "output_type": "stream",
     "text": [
      "count    59.000000\n",
      "mean      0.514237\n",
      "std       0.321683\n",
      "min       0.120000\n",
      "25%       0.250000\n",
      "50%       0.330000\n",
      "75%       0.930000\n",
      "max       0.990000\n",
      "Name: акционные_покупки, dtype: float64\n",
      "count    104.000000\n",
      "mean       0.227788\n",
      "std        0.138893\n",
      "min        0.110000\n",
      "25%        0.150000\n",
      "50%        0.210000\n",
      "75%        0.252500\n",
      "max        0.950000\n",
      "Name: акционные_покупки, dtype: float64\n"
     ]
    }
   ],
   "source": [
    "statistics_goal = goal_seg['акционные_покупки'].describe()\n",
    "print(statistics_goal)\n",
    "statistics_best = best_seg['акционные_покупки'].describe()\n",
    "print(statistics_best)"
   ]
  },
  {
   "cell_type": "markdown",
   "metadata": {},
   "source": [
    "Let's consider the feature **Popular Category**."
   ]
  },
  {
   "cell_type": "code",
   "execution_count": 427,
   "metadata": {},
   "outputs": [
    {
     "data": {
      "image/png": "[encoded data removed]",
      "text/plain": [
       "<Figure size 1000x600 with 1 Axes>"
      ]
     },
     "metadata": {},
     "output_type": "display_data"
    }
   ],
   "source": [
    "category_counts = goal_seg['популярная_категория'].value_counts()\n",
    "\n",
    "# create pie chart \n",
    "plt.figure(figsize=(10, 6))\n",
    "plt.pie(category_counts, labels=category_counts.index, autopct='%1.1f%%', startangle=140, colors=sns.color_palette('viridis', len(category_counts)))\n",
    "plt.title('To analyze the distribution of popular categories within the \"high_profitability_with_decreased_activity\"')\n",
    "plt.axis('equal') \n",
    "plt.show()"
   ]
  },
  {
   "cell_type": "code",
   "execution_count": 429,
   "metadata": {},
   "outputs": [
    {
     "data": {
      "image/png": "[encoded data removed]",
      "text/plain": [
       "<Figure size 600x300 with 1 Axes>"
      ]
     },
     "metadata": {},
     "output_type": "display_data"
    }
   ],
   "source": [
    "category_counts = goal_seg['разрешить_сообщать'].value_counts()\n",
    "\n",
    "# Построение круговой диаграммы\n",
    "plt.figure(figsize=(6, 3))\n",
    "plt.pie(category_counts, labels=category_counts.index, autopct='%1.1f%%', startangle=140, colors=sns.color_palette('viridis', len(category_counts)))\n",
    "plt.title('Distribution of \"allow to inform\"')\n",
    "plt.axis('equal')  # Убедиться, что круговая диаграмма круглая\n",
    "plt.show()"
   ]
  },
  {
   "cell_type": "markdown",
   "metadata": {},
   "source": [
    "**Personalized Recommendations**:\n",
    "\n",
    "- We can see that the popular categories for the target segment are children's products, cosmetics and accessories, and kitchenware. These are the categories that should be the focus of the following campaigns:\n",
    "  \n",
    "  - **Discounts on these types of products**: The target segment has a higher average number of unpaid items in their cart over the last 3 months (4 compared to 2, nearly 50% higher). Offering discounts on these products could encourage them to complete their purchases.\n",
    "  \n",
    "  - **Improve marketing activity**: Increase efforts in calls and advertising, as the average marketing activity for this segment (3.5) is lower than that of the best-performing segment (4.5). Enhancing marketing engagement could help retain these customers.\n",
    "  \n",
    "  - **Launch promotional campaigns focused on these categories**: Since this segment tends to take advantage of promotions more frequently, targeted promotions in these categories could resonate well with them.\n",
    "\n",
    "  - **Overall approach**: Customers in this segment are generally open to receiving information about offers. Therefore, focusing communication and marketing efforts on these specific categories could be particularly effective."
   ]
  },
  {
   "cell_type": "markdown",
   "metadata": {},
   "source": [
    "## Final conclusion"
   ]
  },
  {
   "cell_type": "markdown",
   "metadata": {},
   "source": [
    "### Task\n",
    "\n",
    "The task is to develop a solution that will allow the personalization of offers for regular customers to increase their purchasing activity.\n",
    "\n",
    "### Initial Data and Preprocessing\n",
    "\n",
    "The initial data consisted of four datasets related to customer behavior on the website, revenue data that the store receives from customers, data on the time (in minutes) that customers spent on the website over a period, and data on the average monthly profit from customers over the last 3 months.\n",
    "\n",
    "The first three datasets were merged, data preprocessing was conducted, and a correlation analysis was performed.\n",
    "\n",
    "### Search for the Best Model\n",
    "\n",
    "To find the best model, a pipeline was created that included data preparation (encoding, scaling) and searching for the best model among kNN, Decision Tree Classifier, SVC, and Logistic Regression. Randomized search was used for hyperparameter tuning.\n",
    "\n",
    "### Best Model\n",
    "\n",
    "As a result of the tests, the best model was Logistic Regression, with a ROC_AUC metric of 0.9 on the test set, and 0.87 on validation.\n",
    "\n",
    "### Conclusions and Additional Recommendations for the Target Customer Segment\n",
    "\n",
    "The target segment chosen was high profitability with decreasing purchasing activity. An analytical and statistical analysis was conducted, leading to the following personalized recommendations:\n",
    "\n",
    "- **Focus of marketing activity** should be on the following categories:\n",
    "  - Children’s products, cosmetics and accessories, kitchenware.\n",
    "  \n",
    "- **Campaigns and promotions**:\n",
    "  - Offer discounts on these products to reduce the number of unpaid items in the cart.\n",
    "  \n",
    "- **Increase marketing activity**:\n",
    "  - Enhance calls and advertisements.\n",
    "  \n",
    "- **Promotions and offers**:\n",
    "  - Launch promotional campaigns for these categories, as the segment shows high promotional activity.\n",
    "  \n",
    "- **Communication**:\n",
    "  - Actively inform customers about offers, focusing on these categories.\n",
    "\n",
    "These recommendations will help increase customer purchasing activity in the selected segment."
   ]
  }
 ],
 "metadata": {
  "ExecuteTimeLog": [
   {
    "duration": 6011,
    "start_time": "2024-08-05T07:10:32.232Z"
   },
   {
    "duration": 4253,
    "start_time": "2024-08-05T07:10:38.245Z"
   },
   {
    "duration": 488,
    "start_time": "2024-08-05T07:10:42.500Z"
   },
   {
    "duration": 0,
    "start_time": "2024-08-05T07:10:42.993Z"
   },
   {
    "duration": 0,
    "start_time": "2024-08-05T07:10:42.994Z"
   },
   {
    "duration": 0,
    "start_time": "2024-08-05T07:10:42.994Z"
   },
   {
    "duration": 0,
    "start_time": "2024-08-05T07:10:42.995Z"
   },
   {
    "duration": 0,
    "start_time": "2024-08-05T07:10:42.996Z"
   },
   {
    "duration": 0,
    "start_time": "2024-08-05T07:10:42.997Z"
   },
   {
    "duration": 0,
    "start_time": "2024-08-05T07:10:42.998Z"
   },
   {
    "duration": 0,
    "start_time": "2024-08-05T07:10:42.999Z"
   },
   {
    "duration": 0,
    "start_time": "2024-08-05T07:10:43.000Z"
   },
   {
    "duration": 0,
    "start_time": "2024-08-05T07:10:43.001Z"
   },
   {
    "duration": 0,
    "start_time": "2024-08-05T07:10:43.002Z"
   },
   {
    "duration": 0,
    "start_time": "2024-08-05T07:10:43.003Z"
   },
   {
    "duration": 0,
    "start_time": "2024-08-05T07:10:43.004Z"
   },
   {
    "duration": 0,
    "start_time": "2024-08-05T07:10:43.004Z"
   },
   {
    "duration": 0,
    "start_time": "2024-08-05T07:10:43.005Z"
   },
   {
    "duration": 0,
    "start_time": "2024-08-05T07:10:43.006Z"
   },
   {
    "duration": 0,
    "start_time": "2024-08-05T07:10:43.007Z"
   },
   {
    "duration": 0,
    "start_time": "2024-08-05T07:10:43.008Z"
   },
   {
    "duration": 0,
    "start_time": "2024-08-05T07:10:43.009Z"
   },
   {
    "duration": 0,
    "start_time": "2024-08-05T07:10:43.010Z"
   },
   {
    "duration": 0,
    "start_time": "2024-08-05T07:10:43.011Z"
   },
   {
    "duration": 0,
    "start_time": "2024-08-05T07:10:43.012Z"
   },
   {
    "duration": 0,
    "start_time": "2024-08-05T07:10:43.013Z"
   },
   {
    "duration": 0,
    "start_time": "2024-08-05T07:10:43.014Z"
   },
   {
    "duration": 0,
    "start_time": "2024-08-05T07:10:43.015Z"
   },
   {
    "duration": 0,
    "start_time": "2024-08-05T07:10:43.016Z"
   },
   {
    "duration": 0,
    "start_time": "2024-08-05T07:10:43.017Z"
   },
   {
    "duration": 0,
    "start_time": "2024-08-05T07:10:43.018Z"
   },
   {
    "duration": 0,
    "start_time": "2024-08-05T07:10:43.019Z"
   },
   {
    "duration": 0,
    "start_time": "2024-08-05T07:10:43.019Z"
   },
   {
    "duration": 0,
    "start_time": "2024-08-05T07:10:43.020Z"
   },
   {
    "duration": 0,
    "start_time": "2024-08-05T07:10:43.020Z"
   },
   {
    "duration": 0,
    "start_time": "2024-08-05T07:10:43.060Z"
   },
   {
    "duration": 0,
    "start_time": "2024-08-05T07:10:43.062Z"
   },
   {
    "duration": 0,
    "start_time": "2024-08-05T07:10:43.063Z"
   },
   {
    "duration": 0,
    "start_time": "2024-08-05T07:10:43.064Z"
   },
   {
    "duration": 0,
    "start_time": "2024-08-05T07:10:43.065Z"
   },
   {
    "duration": 0,
    "start_time": "2024-08-05T07:10:43.066Z"
   },
   {
    "duration": 0,
    "start_time": "2024-08-05T07:10:43.066Z"
   },
   {
    "duration": 0,
    "start_time": "2024-08-05T07:10:43.067Z"
   },
   {
    "duration": 0,
    "start_time": "2024-08-05T07:10:43.068Z"
   },
   {
    "duration": 0,
    "start_time": "2024-08-05T07:10:43.069Z"
   },
   {
    "duration": 0,
    "start_time": "2024-08-05T07:10:43.070Z"
   },
   {
    "duration": 0,
    "start_time": "2024-08-05T07:10:43.071Z"
   },
   {
    "duration": 0,
    "start_time": "2024-08-05T07:10:43.072Z"
   },
   {
    "duration": 0,
    "start_time": "2024-08-05T07:10:43.073Z"
   },
   {
    "duration": 0,
    "start_time": "2024-08-05T07:10:43.074Z"
   },
   {
    "duration": 0,
    "start_time": "2024-08-05T07:10:43.074Z"
   },
   {
    "duration": 0,
    "start_time": "2024-08-05T07:10:43.075Z"
   },
   {
    "duration": 0,
    "start_time": "2024-08-05T07:10:43.076Z"
   },
   {
    "duration": 0,
    "start_time": "2024-08-05T07:10:43.077Z"
   },
   {
    "duration": 0,
    "start_time": "2024-08-05T07:10:43.078Z"
   },
   {
    "duration": 0,
    "start_time": "2024-08-05T07:10:43.079Z"
   },
   {
    "duration": 0,
    "start_time": "2024-08-05T07:10:43.080Z"
   },
   {
    "duration": 0,
    "start_time": "2024-08-05T07:10:43.081Z"
   },
   {
    "duration": 0,
    "start_time": "2024-08-05T07:10:43.082Z"
   },
   {
    "duration": 0,
    "start_time": "2024-08-05T07:10:43.082Z"
   },
   {
    "duration": 0,
    "start_time": "2024-08-05T07:10:43.083Z"
   },
   {
    "duration": 0,
    "start_time": "2024-08-05T07:10:43.084Z"
   },
   {
    "duration": 0,
    "start_time": "2024-08-05T07:10:43.085Z"
   },
   {
    "duration": 0,
    "start_time": "2024-08-05T07:10:43.086Z"
   },
   {
    "duration": 0,
    "start_time": "2024-08-05T07:10:43.087Z"
   },
   {
    "duration": 0,
    "start_time": "2024-08-05T07:10:43.088Z"
   },
   {
    "duration": 0,
    "start_time": "2024-08-05T07:10:43.089Z"
   },
   {
    "duration": 0,
    "start_time": "2024-08-05T07:10:43.090Z"
   },
   {
    "duration": 2408,
    "start_time": "2024-08-05T07:11:35.773Z"
   },
   {
    "duration": 3045,
    "start_time": "2024-08-05T07:11:38.183Z"
   },
   {
    "duration": 6243,
    "start_time": "2024-08-05T07:11:41.230Z"
   },
   {
    "duration": 3139,
    "start_time": "2024-08-05T07:11:47.475Z"
   },
   {
    "duration": 0,
    "start_time": "2024-08-05T07:11:50.617Z"
   },
   {
    "duration": 0,
    "start_time": "2024-08-05T07:11:50.619Z"
   },
   {
    "duration": 0,
    "start_time": "2024-08-05T07:11:50.620Z"
   },
   {
    "duration": 0,
    "start_time": "2024-08-05T07:11:50.621Z"
   },
   {
    "duration": 0,
    "start_time": "2024-08-05T07:11:50.622Z"
   },
   {
    "duration": 0,
    "start_time": "2024-08-05T07:11:50.623Z"
   },
   {
    "duration": 0,
    "start_time": "2024-08-05T07:11:50.625Z"
   },
   {
    "duration": 0,
    "start_time": "2024-08-05T07:11:50.626Z"
   },
   {
    "duration": 0,
    "start_time": "2024-08-05T07:11:50.627Z"
   },
   {
    "duration": 0,
    "start_time": "2024-08-05T07:11:50.628Z"
   },
   {
    "duration": 0,
    "start_time": "2024-08-05T07:11:50.630Z"
   },
   {
    "duration": 0,
    "start_time": "2024-08-05T07:11:50.631Z"
   },
   {
    "duration": 1,
    "start_time": "2024-08-05T07:11:50.632Z"
   },
   {
    "duration": 0,
    "start_time": "2024-08-05T07:11:50.634Z"
   },
   {
    "duration": 0,
    "start_time": "2024-08-05T07:11:50.661Z"
   },
   {
    "duration": 0,
    "start_time": "2024-08-05T07:11:50.662Z"
   },
   {
    "duration": 0,
    "start_time": "2024-08-05T07:11:50.664Z"
   },
   {
    "duration": 0,
    "start_time": "2024-08-05T07:11:50.666Z"
   },
   {
    "duration": 0,
    "start_time": "2024-08-05T07:11:50.667Z"
   },
   {
    "duration": 0,
    "start_time": "2024-08-05T07:11:50.668Z"
   },
   {
    "duration": 0,
    "start_time": "2024-08-05T07:11:50.670Z"
   },
   {
    "duration": 0,
    "start_time": "2024-08-05T07:11:50.671Z"
   },
   {
    "duration": 0,
    "start_time": "2024-08-05T07:11:50.673Z"
   },
   {
    "duration": 0,
    "start_time": "2024-08-05T07:11:50.674Z"
   },
   {
    "duration": 0,
    "start_time": "2024-08-05T07:11:50.675Z"
   },
   {
    "duration": 1,
    "start_time": "2024-08-05T07:11:50.676Z"
   },
   {
    "duration": 0,
    "start_time": "2024-08-05T07:11:50.678Z"
   },
   {
    "duration": 0,
    "start_time": "2024-08-05T07:11:50.679Z"
   },
   {
    "duration": 0,
    "start_time": "2024-08-05T07:11:50.681Z"
   },
   {
    "duration": 0,
    "start_time": "2024-08-05T07:11:50.682Z"
   },
   {
    "duration": 0,
    "start_time": "2024-08-05T07:11:50.683Z"
   },
   {
    "duration": 0,
    "start_time": "2024-08-05T07:11:50.684Z"
   },
   {
    "duration": 0,
    "start_time": "2024-08-05T07:11:50.686Z"
   },
   {
    "duration": 0,
    "start_time": "2024-08-05T07:11:50.687Z"
   },
   {
    "duration": 0,
    "start_time": "2024-08-05T07:11:50.688Z"
   },
   {
    "duration": 0,
    "start_time": "2024-08-05T07:11:50.690Z"
   },
   {
    "duration": 0,
    "start_time": "2024-08-05T07:11:50.691Z"
   },
   {
    "duration": 0,
    "start_time": "2024-08-05T07:11:50.692Z"
   },
   {
    "duration": 0,
    "start_time": "2024-08-05T07:11:50.701Z"
   },
   {
    "duration": 0,
    "start_time": "2024-08-05T07:11:50.703Z"
   },
   {
    "duration": 0,
    "start_time": "2024-08-05T07:11:50.761Z"
   },
   {
    "duration": 0,
    "start_time": "2024-08-05T07:11:50.762Z"
   },
   {
    "duration": 0,
    "start_time": "2024-08-05T07:11:50.763Z"
   },
   {
    "duration": 0,
    "start_time": "2024-08-05T07:11:50.764Z"
   },
   {
    "duration": 0,
    "start_time": "2024-08-05T07:11:50.767Z"
   },
   {
    "duration": 0,
    "start_time": "2024-08-05T07:11:50.768Z"
   },
   {
    "duration": 0,
    "start_time": "2024-08-05T07:11:50.769Z"
   },
   {
    "duration": 0,
    "start_time": "2024-08-05T07:11:50.770Z"
   },
   {
    "duration": 0,
    "start_time": "2024-08-05T07:11:50.771Z"
   },
   {
    "duration": 0,
    "start_time": "2024-08-05T07:11:50.772Z"
   },
   {
    "duration": 0,
    "start_time": "2024-08-05T07:11:50.773Z"
   },
   {
    "duration": 0,
    "start_time": "2024-08-05T07:11:50.774Z"
   },
   {
    "duration": 0,
    "start_time": "2024-08-05T07:11:50.775Z"
   },
   {
    "duration": 0,
    "start_time": "2024-08-05T07:11:50.776Z"
   },
   {
    "duration": 0,
    "start_time": "2024-08-05T07:11:50.777Z"
   },
   {
    "duration": 0,
    "start_time": "2024-08-05T07:11:50.778Z"
   },
   {
    "duration": 0,
    "start_time": "2024-08-05T07:11:50.779Z"
   },
   {
    "duration": 0,
    "start_time": "2024-08-05T07:11:50.780Z"
   },
   {
    "duration": 0,
    "start_time": "2024-08-05T07:11:50.781Z"
   },
   {
    "duration": 0,
    "start_time": "2024-08-05T07:11:50.782Z"
   },
   {
    "duration": 0,
    "start_time": "2024-08-05T07:11:50.783Z"
   },
   {
    "duration": 0,
    "start_time": "2024-08-05T07:11:50.784Z"
   },
   {
    "duration": 0,
    "start_time": "2024-08-05T07:11:50.785Z"
   },
   {
    "duration": 0,
    "start_time": "2024-08-05T07:11:50.786Z"
   },
   {
    "duration": 0,
    "start_time": "2024-08-05T07:11:50.787Z"
   },
   {
    "duration": 5638,
    "start_time": "2024-08-05T07:15:07.110Z"
   },
   {
    "duration": 3013,
    "start_time": "2024-08-05T07:15:12.750Z"
   },
   {
    "duration": 5676,
    "start_time": "2024-08-05T07:15:15.765Z"
   },
   {
    "duration": 2788,
    "start_time": "2024-08-05T07:15:21.444Z"
   },
   {
    "duration": 154,
    "start_time": "2024-08-05T07:15:24.233Z"
   },
   {
    "duration": 0,
    "start_time": "2024-08-05T07:15:24.390Z"
   },
   {
    "duration": 0,
    "start_time": "2024-08-05T07:15:24.391Z"
   },
   {
    "duration": 0,
    "start_time": "2024-08-05T07:15:24.392Z"
   },
   {
    "duration": 0,
    "start_time": "2024-08-05T07:15:24.393Z"
   },
   {
    "duration": 0,
    "start_time": "2024-08-05T07:15:24.394Z"
   },
   {
    "duration": 0,
    "start_time": "2024-08-05T07:15:24.394Z"
   },
   {
    "duration": 0,
    "start_time": "2024-08-05T07:15:24.395Z"
   },
   {
    "duration": 0,
    "start_time": "2024-08-05T07:15:24.396Z"
   },
   {
    "duration": 0,
    "start_time": "2024-08-05T07:15:24.397Z"
   },
   {
    "duration": 0,
    "start_time": "2024-08-05T07:15:24.398Z"
   },
   {
    "duration": 0,
    "start_time": "2024-08-05T07:15:24.399Z"
   },
   {
    "duration": 0,
    "start_time": "2024-08-05T07:15:24.400Z"
   },
   {
    "duration": 0,
    "start_time": "2024-08-05T07:15:24.400Z"
   },
   {
    "duration": 0,
    "start_time": "2024-08-05T07:15:24.402Z"
   },
   {
    "duration": 0,
    "start_time": "2024-08-05T07:15:24.402Z"
   },
   {
    "duration": 0,
    "start_time": "2024-08-05T07:15:24.403Z"
   },
   {
    "duration": 0,
    "start_time": "2024-08-05T07:15:24.404Z"
   },
   {
    "duration": 0,
    "start_time": "2024-08-05T07:15:24.405Z"
   },
   {
    "duration": 0,
    "start_time": "2024-08-05T07:15:24.406Z"
   },
   {
    "duration": 0,
    "start_time": "2024-08-05T07:15:24.407Z"
   },
   {
    "duration": 0,
    "start_time": "2024-08-05T07:15:24.408Z"
   },
   {
    "duration": 0,
    "start_time": "2024-08-05T07:15:24.409Z"
   },
   {
    "duration": 0,
    "start_time": "2024-08-05T07:15:24.410Z"
   },
   {
    "duration": 0,
    "start_time": "2024-08-05T07:15:24.411Z"
   },
   {
    "duration": 0,
    "start_time": "2024-08-05T07:15:24.412Z"
   },
   {
    "duration": 0,
    "start_time": "2024-08-05T07:15:24.413Z"
   },
   {
    "duration": 0,
    "start_time": "2024-08-05T07:15:24.414Z"
   },
   {
    "duration": 0,
    "start_time": "2024-08-05T07:15:24.415Z"
   },
   {
    "duration": 0,
    "start_time": "2024-08-05T07:15:24.416Z"
   },
   {
    "duration": 0,
    "start_time": "2024-08-05T07:15:24.461Z"
   },
   {
    "duration": 0,
    "start_time": "2024-08-05T07:15:24.462Z"
   },
   {
    "duration": 0,
    "start_time": "2024-08-05T07:15:24.463Z"
   },
   {
    "duration": 0,
    "start_time": "2024-08-05T07:15:24.464Z"
   },
   {
    "duration": 0,
    "start_time": "2024-08-05T07:15:24.465Z"
   },
   {
    "duration": 0,
    "start_time": "2024-08-05T07:15:24.465Z"
   },
   {
    "duration": 0,
    "start_time": "2024-08-05T07:15:24.466Z"
   },
   {
    "duration": 0,
    "start_time": "2024-08-05T07:15:24.467Z"
   },
   {
    "duration": 0,
    "start_time": "2024-08-05T07:15:24.468Z"
   },
   {
    "duration": 0,
    "start_time": "2024-08-05T07:15:24.469Z"
   },
   {
    "duration": 0,
    "start_time": "2024-08-05T07:15:24.470Z"
   },
   {
    "duration": 0,
    "start_time": "2024-08-05T07:15:24.471Z"
   },
   {
    "duration": 0,
    "start_time": "2024-08-05T07:15:24.472Z"
   },
   {
    "duration": 0,
    "start_time": "2024-08-05T07:15:24.473Z"
   },
   {
    "duration": 0,
    "start_time": "2024-08-05T07:15:24.474Z"
   },
   {
    "duration": 0,
    "start_time": "2024-08-05T07:15:24.476Z"
   },
   {
    "duration": 0,
    "start_time": "2024-08-05T07:15:24.477Z"
   },
   {
    "duration": 0,
    "start_time": "2024-08-05T07:15:24.478Z"
   },
   {
    "duration": 0,
    "start_time": "2024-08-05T07:15:24.479Z"
   },
   {
    "duration": 0,
    "start_time": "2024-08-05T07:15:24.480Z"
   },
   {
    "duration": 0,
    "start_time": "2024-08-05T07:15:24.481Z"
   },
   {
    "duration": 0,
    "start_time": "2024-08-05T07:15:24.482Z"
   },
   {
    "duration": 0,
    "start_time": "2024-08-05T07:15:24.483Z"
   },
   {
    "duration": 0,
    "start_time": "2024-08-05T07:15:24.484Z"
   },
   {
    "duration": 0,
    "start_time": "2024-08-05T07:15:24.485Z"
   },
   {
    "duration": 0,
    "start_time": "2024-08-05T07:15:24.486Z"
   },
   {
    "duration": 0,
    "start_time": "2024-08-05T07:15:24.487Z"
   },
   {
    "duration": 0,
    "start_time": "2024-08-05T07:15:24.488Z"
   },
   {
    "duration": 0,
    "start_time": "2024-08-05T07:15:24.488Z"
   },
   {
    "duration": 0,
    "start_time": "2024-08-05T07:15:24.489Z"
   },
   {
    "duration": 0,
    "start_time": "2024-08-05T07:15:24.490Z"
   },
   {
    "duration": 0,
    "start_time": "2024-08-05T07:15:24.491Z"
   },
   {
    "duration": 0,
    "start_time": "2024-08-05T07:15:24.492Z"
   },
   {
    "duration": 0,
    "start_time": "2024-08-05T07:15:24.493Z"
   },
   {
    "duration": 0,
    "start_time": "2024-08-05T07:15:24.494Z"
   },
   {
    "duration": 5715,
    "start_time": "2024-08-05T07:16:30.461Z"
   },
   {
    "duration": 3003,
    "start_time": "2024-08-05T07:16:36.178Z"
   },
   {
    "duration": 5616,
    "start_time": "2024-08-05T07:16:39.183Z"
   },
   {
    "duration": 2610,
    "start_time": "2024-08-05T07:16:44.802Z"
   },
   {
    "duration": 321,
    "start_time": "2024-08-05T07:16:47.414Z"
   },
   {
    "duration": 19,
    "start_time": "2024-08-05T07:16:47.737Z"
   },
   {
    "duration": 3,
    "start_time": "2024-08-05T07:16:47.757Z"
   },
   {
    "duration": 14,
    "start_time": "2024-08-05T07:16:47.761Z"
   },
   {
    "duration": 32,
    "start_time": "2024-08-05T07:16:47.776Z"
   },
   {
    "duration": 9,
    "start_time": "2024-08-05T07:16:47.809Z"
   },
   {
    "duration": 6,
    "start_time": "2024-08-05T07:16:47.819Z"
   },
   {
    "duration": 29,
    "start_time": "2024-08-05T07:16:47.826Z"
   },
   {
    "duration": 14,
    "start_time": "2024-08-05T07:16:47.857Z"
   },
   {
    "duration": 24,
    "start_time": "2024-08-05T07:16:47.876Z"
   },
   {
    "duration": 13,
    "start_time": "2024-08-05T07:16:47.901Z"
   },
   {
    "duration": 6,
    "start_time": "2024-08-05T07:16:47.915Z"
   },
   {
    "duration": 5,
    "start_time": "2024-08-05T07:16:47.922Z"
   },
   {
    "duration": 5,
    "start_time": "2024-08-05T07:16:47.928Z"
   },
   {
    "duration": 27,
    "start_time": "2024-08-05T07:16:47.935Z"
   },
   {
    "duration": 8,
    "start_time": "2024-08-05T07:16:47.963Z"
   },
   {
    "duration": 5,
    "start_time": "2024-08-05T07:16:47.972Z"
   },
   {
    "duration": 16,
    "start_time": "2024-08-05T07:16:47.978Z"
   },
   {
    "duration": 20,
    "start_time": "2024-08-05T07:16:47.996Z"
   },
   {
    "duration": 12,
    "start_time": "2024-08-05T07:16:48.018Z"
   },
   {
    "duration": 15,
    "start_time": "2024-08-05T07:16:48.031Z"
   },
   {
    "duration": 5,
    "start_time": "2024-08-05T07:16:48.047Z"
   },
   {
    "duration": 10,
    "start_time": "2024-08-05T07:16:48.053Z"
   },
   {
    "duration": 8,
    "start_time": "2024-08-05T07:16:48.065Z"
   },
   {
    "duration": 42,
    "start_time": "2024-08-05T07:16:48.074Z"
   },
   {
    "duration": 405,
    "start_time": "2024-08-05T07:16:48.118Z"
   },
   {
    "duration": 14,
    "start_time": "2024-08-05T07:16:48.524Z"
   },
   {
    "duration": 359,
    "start_time": "2024-08-05T07:16:48.539Z"
   },
   {
    "duration": 234,
    "start_time": "2024-08-05T07:16:48.899Z"
   },
   {
    "duration": 38,
    "start_time": "2024-08-05T07:16:49.134Z"
   },
   {
    "duration": 206,
    "start_time": "2024-08-05T07:16:49.174Z"
   },
   {
    "duration": 15,
    "start_time": "2024-08-05T07:16:49.382Z"
   },
   {
    "duration": 186,
    "start_time": "2024-08-05T07:16:49.399Z"
   },
   {
    "duration": 18,
    "start_time": "2024-08-05T07:16:49.587Z"
   },
   {
    "duration": 24,
    "start_time": "2024-08-05T07:16:49.606Z"
   },
   {
    "duration": 53,
    "start_time": "2024-08-05T07:16:49.632Z"
   },
   {
    "duration": 10,
    "start_time": "2024-08-05T07:16:49.690Z"
   },
   {
    "duration": 11,
    "start_time": "2024-08-05T07:16:49.702Z"
   },
   {
    "duration": 52,
    "start_time": "2024-08-05T07:16:49.715Z"
   },
   {
    "duration": 734,
    "start_time": "2024-08-05T07:16:49.769Z"
   },
   {
    "duration": 260,
    "start_time": "2024-08-05T07:16:50.504Z"
   },
   {
    "duration": 95,
    "start_time": "2024-08-05T07:16:50.766Z"
   },
   {
    "duration": 1119,
    "start_time": "2024-08-05T07:16:50.862Z"
   },
   {
    "duration": 17,
    "start_time": "2024-08-05T07:16:51.982Z"
   },
   {
    "duration": 51,
    "start_time": "2024-08-05T07:16:52.001Z"
   },
   {
    "duration": 48,
    "start_time": "2024-08-05T07:16:52.054Z"
   },
   {
    "duration": 149,
    "start_time": "2024-08-05T07:16:52.103Z"
   },
   {
    "duration": 15,
    "start_time": "2024-08-05T07:16:52.253Z"
   },
   {
    "duration": 39,
    "start_time": "2024-08-05T07:16:52.270Z"
   },
   {
    "duration": 47,
    "start_time": "2024-08-05T07:16:52.311Z"
   },
   {
    "duration": 30,
    "start_time": "2024-08-05T07:16:52.360Z"
   },
   {
    "duration": 174,
    "start_time": "2024-08-05T07:16:52.391Z"
   },
   {
    "duration": 0,
    "start_time": "2024-08-05T07:16:52.566Z"
   },
   {
    "duration": 0,
    "start_time": "2024-08-05T07:16:52.567Z"
   },
   {
    "duration": 0,
    "start_time": "2024-08-05T07:16:52.568Z"
   },
   {
    "duration": 0,
    "start_time": "2024-08-05T07:16:52.570Z"
   },
   {
    "duration": 0,
    "start_time": "2024-08-05T07:16:52.571Z"
   },
   {
    "duration": 0,
    "start_time": "2024-08-05T07:16:52.572Z"
   },
   {
    "duration": 0,
    "start_time": "2024-08-05T07:16:52.573Z"
   },
   {
    "duration": 0,
    "start_time": "2024-08-05T07:16:52.574Z"
   },
   {
    "duration": 0,
    "start_time": "2024-08-05T07:16:52.575Z"
   },
   {
    "duration": 0,
    "start_time": "2024-08-05T07:16:52.576Z"
   },
   {
    "duration": 0,
    "start_time": "2024-08-05T07:16:52.576Z"
   },
   {
    "duration": 0,
    "start_time": "2024-08-05T07:16:52.577Z"
   },
   {
    "duration": 0,
    "start_time": "2024-08-05T07:16:52.578Z"
   },
   {
    "duration": 3,
    "start_time": "2024-08-05T07:17:04.366Z"
   },
   {
    "duration": 2,
    "start_time": "2024-08-05T07:17:04.541Z"
   },
   {
    "duration": 5,
    "start_time": "2024-08-05T07:17:04.717Z"
   },
   {
    "duration": 19,
    "start_time": "2024-08-05T07:17:05.085Z"
   },
   {
    "duration": 13,
    "start_time": "2024-08-05T07:17:06.101Z"
   },
   {
    "duration": 6,
    "start_time": "2024-08-05T07:17:06.269Z"
   },
   {
    "duration": 10,
    "start_time": "2024-08-05T07:17:06.612Z"
   },
   {
    "duration": 10,
    "start_time": "2024-08-05T07:17:07.116Z"
   },
   {
    "duration": 19,
    "start_time": "2024-08-05T07:17:07.276Z"
   },
   {
    "duration": 10,
    "start_time": "2024-08-05T07:17:07.620Z"
   },
   {
    "duration": 229,
    "start_time": "2024-08-05T07:17:07.932Z"
   },
   {
    "duration": 102,
    "start_time": "2024-08-05T07:17:08.163Z"
   }
  ],
  "colab": {
   "provenance": []
  },
  "kernelspec": {
   "display_name": "Python 3 (ipykernel)",
   "language": "python",
   "name": "python3"
  },
  "language_info": {
   "codemirror_mode": {
    "name": "ipython",
    "version": 3
   },
   "file_extension": ".py",
   "mimetype": "text/x-python",
   "name": "python",
   "nbconvert_exporter": "python",
   "pygments_lexer": "ipython3",
   "version": "3.11.7"
  },
  "toc": {
   "base_numbering": 1,
   "nav_menu": {},
   "number_sections": true,
   "sideBar": true,
   "skip_h1_title": true,
   "title_cell": "Table of Contents",
   "title_sidebar": "Contents",
   "toc_cell": false,
   "toc_position": {},
   "toc_section_display": true,
   "toc_window_display": true
  }
 },
 "nbformat": 4,
 "nbformat_minor": 4
}
